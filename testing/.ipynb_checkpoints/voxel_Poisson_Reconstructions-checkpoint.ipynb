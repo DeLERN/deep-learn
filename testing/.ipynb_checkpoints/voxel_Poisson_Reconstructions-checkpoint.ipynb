{
 "cells": [
  {
   "cell_type": "code",
   "execution_count": 1,
   "id": "087c9975",
   "metadata": {},
   "outputs": [],
   "source": [
    "#!pip install open3d\n",
    "#!conda install -c open3d-admin open3d"
   ]
  },
  {
   "cell_type": "code",
   "execution_count": 2,
   "id": "2598b7f8",
   "metadata": {},
   "outputs": [],
   "source": [
    "import open3d as o3d\n",
    "import numpy as np"
   ]
  },
  {
   "cell_type": "code",
   "execution_count": 30,
   "id": "82647e40",
   "metadata": {},
   "outputs": [],
   "source": [
    "#pointCloudMatrix = [[0.0, 0, 0],[0, 0, 1],[0, 1, 0],[0, 1, 1],[1, 0, 0],[1, 0, 1],[1, 1, 0],[1, 1, 1]];\n",
    "\n",
    "pointCloudMatrix = np.array([[0,0,0]])\n",
    "for x in range(51):\n",
    "    for y in range(51):\n",
    "        for z in range(51):\n",
    "            if (abs(x/50) == 1 or abs(y/50) == 1 or abs(z/50)==1 or abs(x) == 0 or abs(y) == 0 or abs(z)==0):\n",
    "                pointCloudMatrix = np.concatenate((pointCloudMatrix,[[x/3,y/3,z/3]]),axis=0)\n",
    "                \n",
    "           \n"
   ]
  },
  {
   "cell_type": "code",
   "execution_count": 26,
   "id": "c6dcad18",
   "metadata": {},
   "outputs": [
    {
     "data": {
      "text/plain": [
       "(12602, 3)"
      ]
     },
     "execution_count": 26,
     "metadata": {},
     "output_type": "execute_result"
    }
   ],
   "source": [
    "pointCloudMatrix.shape"
   ]
  },
  {
   "cell_type": "code",
   "execution_count": null,
   "id": "e0588bf1",
   "metadata": {},
   "outputs": [],
   "source": []
  },
  {
   "cell_type": "code",
   "execution_count": 27,
   "id": "5d8e5d8d",
   "metadata": {},
   "outputs": [],
   "source": [
    "def simplistic_mesh_creator_voxel(pointCloudMatrix):\n",
    "     #takes a numpy matrix of size [x,3] of points \n",
    "     #and uses open3d inorder to create a basic voxel representation of the points\n",
    "    \n",
    "    o3dPointCloud = o3d.geometry.PointCloud() #Create pointcloud object\n",
    "    o3dPointCloud.points = o3d.utility.Vector3dVector(pointCloudMatrix) #Populate with points from numpy matrix\n",
    "    o3dPointCloud.scale(1 / np.max(o3dPointCloud.get_max_bound() - o3dPointCloud.get_min_bound()),\n",
    "          center=o3dPointCloud.get_center()) #fix the scale\n",
    "    #o3dPointCloud.colors = o3d.utility.Vector3dVector(np.random.uniform(0, 1, size=(N, 3)))\n",
    "    #voxel_grid = o3d.geometry.VoxelGrid.create_from_point_cloud(o3dPointCloud,\n",
    "                                                            #voxel_size=0.05)\n",
    "        \n",
    "    v_size = round(max(o3dPointCloud.get_max_bound()-o3dPointCloud.get_min_bound())*0.005,4) #find Side of each voxel\n",
    "    voxel_grid=o3d.geometry.VoxelGrid.create_from_point_cloud(o3dPointCloud,voxel_size=v_size)\n",
    "   # o3d.visualization.draw_geometries([voxel_grid]) #visualization\n",
    "    \n",
    "    voxels=voxel_grid.get_voxels()\n",
    "    vox_mesh = o3d.geometry.TriangleMesh()\n",
    "    #Generate Meshes from the voxels\n",
    "    for v in voxels:\n",
    "        cube = o3d.geometry.TriangleMesh.create_box(width=1, height=1,depth=1)\n",
    "        cube.paint_uniform_color(v.color)\n",
    "        cube.translate(v.grid_index, relative=False)\n",
    "        vox_mesh+=cube\n",
    "    \n",
    "    vox_mesh.translate([0.5,0.5,0.5], relative=True)\n",
    "    vox_mesh.scale(v_size, [0,0,0])\n",
    "    vox_mesh.translate(voxel_grid.origin, relative=True)\n",
    "    vox_mesh.merge_close_vertices(0.0000001) \n",
    "    o3d.visualization.draw_geometries([vox_mesh]) #visualization\n",
    "    \n",
    "    #still need to export properly\n",
    "        \n",
    "    "
   ]
  },
  {
   "cell_type": "code",
   "execution_count": 28,
   "id": "7072e138",
   "metadata": {},
   "outputs": [],
   "source": [
    "simplistic_mesh_creator_voxel(pointCloudMatrix)"
   ]
  },
  {
   "cell_type": "code",
   "execution_count": null,
   "id": "1b79189b",
   "metadata": {},
   "outputs": [],
   "source": []
  },
  {
   "cell_type": "code",
   "execution_count": null,
   "id": "641de720",
   "metadata": {},
   "outputs": [],
   "source": []
  },
  {
   "cell_type": "code",
   "execution_count": null,
   "id": "ae74a6c5",
   "metadata": {},
   "outputs": [],
   "source": []
  },
  {
   "cell_type": "code",
   "execution_count": 7,
   "id": "2b93ef12",
   "metadata": {},
   "outputs": [],
   "source": [
    "import matplotlib.pyplot as plt"
   ]
  },
  {
   "cell_type": "code",
   "execution_count": 19,
   "id": "c17b04ef",
   "metadata": {},
   "outputs": [],
   "source": [
    "def simplistic_mesh_creator_poisson(pointCloudMatrix):\n",
    "    pcd = o3d.geometry.PointCloud()\n",
    "    pcd.points = o3d.utility.Vector3dVector(pointCloudMatrix)\n",
    "    pcd.scale(1 / np.max(pcd.get_max_bound() - pcd.get_min_bound()), center=pcd.get_center())\n",
    "    #o3d.visualization.draw_geometries([pcd])\n",
    "\n",
    "    pcd.normals = o3d.utility.Vector3dVector(np.zeros((1, 3))) #remove exiting Normals\n",
    "    #pcd.estimate_normals() #Estimate new normals base on pointcloud\n",
    "    radius = 0.1   # \n",
    "    max_nn = 30   # \n",
    "    pcd.estimate_normals(search_param=o3d.geometry.KDTreeSearchParamHybrid(radius, max_nn))\n",
    "    pcd.orient_normals_consistent_tangent_plane(100) #Takes a while but works!\n",
    "    #pcd.orient_normals_consistent_tangent_plane(100) #Crashes program\n",
    "    o3d.visualization.draw_geometries([pcd], point_show_normal=True)\n",
    "    with o3d.utility.VerbosityContextManager(\n",
    "        o3d.utility.VerbosityLevel.Debug) as cm:\n",
    "            mesh, densities = o3d.geometry.TriangleMesh.create_from_point_cloud_poisson(\n",
    "                pcd, depth=9)\n",
    "    o3d.visualization.draw_geometries([mesh])\n",
    "    print('visualize densities')\n",
    "    densities = np.asarray(densities)\n",
    "    density_colors = plt.get_cmap('plasma')(\n",
    "    (densities - densities.min()) / (densities.max() - densities.min()))\n",
    "    density_colors = density_colors[:, :3]\n",
    "    density_mesh = o3d.geometry.TriangleMesh()\n",
    "    density_mesh.vertices = mesh.vertices\n",
    "    density_mesh.triangles = mesh.triangles\n",
    "    density_mesh.triangle_normals = mesh.triangle_normals\n",
    "    density_mesh.vertex_colors = o3d.utility.Vector3dVector(density_colors)\n",
    "    o3d.visualization.draw_geometries([density_mesh])\n",
    "    print('remove low density vertices')\n",
    "    vertices_to_remove = densities < np.quantile(densities, 0.01)\n",
    "    mesh.remove_vertices_by_mask(vertices_to_remove)\n",
    "    print(mesh)\n",
    "    o3d.visualization.draw_geometries([mesh])\n"
   ]
  },
  {
   "cell_type": "code",
   "execution_count": 29,
   "id": "06b17873",
   "metadata": {},
   "outputs": [
    {
     "name": "stdout",
     "output_type": "stream",
     "text": [
      "hi\n",
      "idk why this worked\n",
      "[Open3D DEBUG] Input Points / Samples: 12602 / 12601\n",
      "[Open3D DEBUG] #   Got kernel density: 0.124 (s), 252.375 (MB) / 468.012 (MB) / 476 (MB)\n",
      "[Open3D DEBUG] #     Got normal field: 0.0350001 (s), 258.004 (MB) / 468.012 (MB) / 476 (MB)\n",
      "[Open3D DEBUG] Point weight / Estimated Area: 5.301378e-04 / 6.680797e+00\n",
      "[Open3D DEBUG] #       Finalized tree: 0.115 (s), 269.766 (MB) / 468.012 (MB) / 476 (MB)\n",
      "[Open3D DEBUG] #  Set FEM constraints: 0.285 (s), 261.266 (MB) / 468.012 (MB) / 476 (MB)\n",
      "[Open3D DEBUG] #Set point constraints: 0.0470002 (s), 261.395 (MB) / 468.012 (MB) / 476 (MB)\n",
      "[Open3D DEBUG] Leaf Nodes / Active Nodes / Ghost Nodes: 538462 / 140872 / 474513\n",
      "[Open3D DEBUG] Memory Usage: 261.398 MB\n",
      "[Open3D DEBUG] # Linear system solved: 0.524 (s), 263.348 (MB) / 468.012 (MB) / 476 (MB)\n",
      "[Open3D DEBUG] Got average: 0.0139999 (s), 263.355 (MB) / 468.012 (MB) / 476 (MB)\n",
      "[Open3D DEBUG] Iso-Value: 5.000168e-01 = 6.301211e+03 / 1.260200e+04\n",
      "[Open3D DEBUG] #          Total Solve:       2.0 (s),     468.0 (MB)\n",
      "visualize densities\n",
      "remove low density vertices\n",
      "TriangleMesh with 17950 points and 35652 triangles.\n"
     ]
    }
   ],
   "source": [
    "simplistic_mesh_creator_poisson(pointCloudMatrix)"
   ]
  },
  {
   "cell_type": "code",
   "execution_count": 23,
   "id": "cd2e4fa0",
   "metadata": {},
   "outputs": [],
   "source": [
    "def generateConvexHull(pointCloudMatrix):\n",
    "\n",
    "    pcd = o3d.geometry.PointCloud()\n",
    "    pcd.points = o3d.utility.Vector3dVector(pointCloudMatrix)\n",
    "    pcd.scale(1 / np.max(pcd.get_max_bound() - pcd.get_min_bound()), center=pcd.get_center())\n",
    "\n",
    "    hull, _ = pcd.compute_convex_hull()\n",
    "    hull_ls = o3d.geometry.LineSet.create_from_triangle_mesh(hull)\n",
    "    hull_ls.paint_uniform_color((0, 0, 1))\n",
    "    o3d.visualization.draw_geometries([hull,hull_ls],mesh_show_back_face=True)"
   ]
  },
  {
   "cell_type": "code",
   "execution_count": 24,
   "id": "02c022ca",
   "metadata": {},
   "outputs": [],
   "source": [
    "generateConvexHull(pointCloudMatrix)"
   ]
  },
  {
   "cell_type": "code",
   "execution_count": null,
   "id": "cb64e1a1",
   "metadata": {},
   "outputs": [],
   "source": []
  },
  {
   "cell_type": "code",
   "execution_count": null,
   "id": "c900e06e",
   "metadata": {},
   "outputs": [],
   "source": []
  },
  {
   "cell_type": "code",
   "execution_count": null,
   "id": "21849b5a",
   "metadata": {},
   "outputs": [],
   "source": []
  }
 ],
 "metadata": {
  "kernelspec": {
   "display_name": "Python 3 (Spyder)",
   "language": "python3",
   "name": "python3"
  },
  "language_info": {
   "codemirror_mode": {
    "name": "ipython",
    "version": 3
   },
   "file_extension": ".py",
   "mimetype": "text/x-python",
   "name": "python",
   "nbconvert_exporter": "python",
   "pygments_lexer": "ipython3",
   "version": "3.8.8"
  }
 },
 "nbformat": 4,
 "nbformat_minor": 5
}
