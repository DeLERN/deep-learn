{
 "cells": [
  {
   "cell_type": "code",
   "execution_count": 34,
   "id": "7730380f",
   "metadata": {},
   "outputs": [],
   "source": [
    "import numpy as np\n",
    "import tensorflow as tf"
   ]
  },
  {
   "cell_type": "code",
   "execution_count": 35,
   "id": "0580beee",
   "metadata": {},
   "outputs": [],
   "source": [
    "data_list = [\n",
    "    \"\"\n",
    "            ]"
   ]
  },
  {
   "cell_type": "code",
   "execution_count": 38,
   "id": "9523c936",
   "metadata": {},
   "outputs": [],
   "source": [
    "import os\n",
    "rootdir = '../data/stanfordaligned'\n",
    "\n",
    "\n",
    "roomFiles = []\n",
    "\n",
    "for subdir, dirs, files in os.walk(rootdir):\n",
    "    for file in files:\n",
    "        if(subdir.endswith(file[0:-4]) and file.endswith('.txt')):\n",
    "            #print(f\"dir: {subdir}, file: {file[0:-4]}\")\n",
    "            roomFiles.append(os.path.join(subdir, file))"
   ]
  },
  {
   "cell_type": "code",
   "execution_count": 42,
   "id": "581f7b74",
   "metadata": {},
   "outputs": [
    {
     "name": "stdout",
     "output_type": "stream",
     "text": [
      "Finished Loading: ../data/stanfordaligned\\Area_1\\conferenceRoom_1\\conferenceRoom_1.txt [file: 1/44]\n",
      "Finished Loading: ../data/stanfordaligned\\Area_1\\conferenceRoom_2\\conferenceRoom_2.txt [file: 2/44]\n",
      "Finished Loading: ../data/stanfordaligned\\Area_1\\copyRoom_1\\copyRoom_1.txt [file: 3/44]\n",
      "Finished Loading: ../data/stanfordaligned\\Area_1\\hallway_1\\hallway_1.txt [file: 4/44]\n",
      "Finished Loading: ../data/stanfordaligned\\Area_1\\hallway_2\\hallway_2.txt [file: 5/44]\n",
      "Finished Loading: ../data/stanfordaligned\\Area_1\\hallway_3\\hallway_3.txt [file: 6/44]\n",
      "Finished Loading: ../data/stanfordaligned\\Area_1\\hallway_4\\hallway_4.txt [file: 7/44]\n",
      "Finished Loading: ../data/stanfordaligned\\Area_1\\hallway_5\\hallway_5.txt [file: 8/44]\n",
      "Finished Loading: ../data/stanfordaligned\\Area_1\\hallway_6\\hallway_6.txt [file: 9/44]\n",
      "Finished Loading: ../data/stanfordaligned\\Area_1\\hallway_7\\hallway_7.txt [file: 10/44]\n",
      "Finished Loading: ../data/stanfordaligned\\Area_1\\hallway_8\\hallway_8.txt [file: 11/44]\n",
      "Finished Loading: ../data/stanfordaligned\\Area_1\\office_1\\office_1.txt [file: 12/44]\n",
      "Finished Loading: ../data/stanfordaligned\\Area_1\\office_10\\office_10.txt [file: 13/44]\n",
      "Finished Loading: ../data/stanfordaligned\\Area_1\\office_11\\office_11.txt [file: 14/44]\n",
      "Finished Loading: ../data/stanfordaligned\\Area_1\\office_12\\office_12.txt [file: 15/44]\n",
      "Finished Loading: ../data/stanfordaligned\\Area_1\\office_13\\office_13.txt [file: 16/44]\n",
      "Finished Loading: ../data/stanfordaligned\\Area_1\\office_14\\office_14.txt [file: 17/44]\n",
      "Finished Loading: ../data/stanfordaligned\\Area_1\\office_15\\office_15.txt [file: 18/44]\n",
      "Finished Loading: ../data/stanfordaligned\\Area_1\\office_16\\office_16.txt [file: 19/44]\n",
      "Finished Loading: ../data/stanfordaligned\\Area_1\\office_17\\office_17.txt [file: 20/44]\n",
      "Finished Loading: ../data/stanfordaligned\\Area_1\\office_18\\office_18.txt [file: 21/44]\n",
      "Finished Loading: ../data/stanfordaligned\\Area_1\\office_19\\office_19.txt [file: 22/44]\n",
      "Finished Loading: ../data/stanfordaligned\\Area_1\\office_2\\office_2.txt [file: 23/44]\n",
      "Finished Loading: ../data/stanfordaligned\\Area_1\\office_20\\office_20.txt [file: 24/44]\n",
      "Finished Loading: ../data/stanfordaligned\\Area_1\\office_21\\office_21.txt [file: 25/44]\n",
      "Finished Loading: ../data/stanfordaligned\\Area_1\\office_22\\office_22.txt [file: 26/44]\n",
      "Finished Loading: ../data/stanfordaligned\\Area_1\\office_23\\office_23.txt [file: 27/44]\n",
      "Finished Loading: ../data/stanfordaligned\\Area_1\\office_24\\office_24.txt [file: 28/44]\n",
      "Finished Loading: ../data/stanfordaligned\\Area_1\\office_25\\office_25.txt [file: 29/44]\n",
      "Finished Loading: ../data/stanfordaligned\\Area_1\\office_26\\office_26.txt [file: 30/44]\n",
      "Finished Loading: ../data/stanfordaligned\\Area_1\\office_27\\office_27.txt [file: 31/44]\n",
      "Finished Loading: ../data/stanfordaligned\\Area_1\\office_28\\office_28.txt [file: 32/44]\n",
      "Finished Loading: ../data/stanfordaligned\\Area_1\\office_29\\office_29.txt [file: 33/44]\n",
      "Finished Loading: ../data/stanfordaligned\\Area_1\\office_3\\office_3.txt [file: 34/44]\n",
      "Finished Loading: ../data/stanfordaligned\\Area_1\\office_30\\office_30.txt [file: 35/44]\n",
      "Finished Loading: ../data/stanfordaligned\\Area_1\\office_31\\office_31.txt [file: 36/44]\n",
      "Finished Loading: ../data/stanfordaligned\\Area_1\\office_4\\office_4.txt [file: 37/44]\n",
      "Finished Loading: ../data/stanfordaligned\\Area_1\\office_5\\office_5.txt [file: 38/44]\n",
      "Finished Loading: ../data/stanfordaligned\\Area_1\\office_6\\office_6.txt [file: 39/44]\n",
      "Finished Loading: ../data/stanfordaligned\\Area_1\\office_7\\office_7.txt [file: 40/44]\n",
      "Finished Loading: ../data/stanfordaligned\\Area_1\\office_8\\office_8.txt [file: 41/44]\n",
      "Finished Loading: ../data/stanfordaligned\\Area_1\\office_9\\office_9.txt [file: 42/44]\n",
      "Finished Loading: ../data/stanfordaligned\\Area_1\\pantry_1\\pantry_1.txt [file: 43/44]\n",
      "Finished Loading: ../data/stanfordaligned\\Area_1\\WC_1\\WC_1.txt [file: 44/44]\n"
     ]
    }
   ],
   "source": [
    "rooms = []\n",
    "n = 1\n",
    "for roomPath in roomFiles:\n",
    "    rooms.append(np.loadtxt(roomPath))\n",
    "    print(f\"Finished Loading: {roomPath} [file: {n}/{len(roomFiles)}]\")\n",
    "    n += 1"
   ]
  },
  {
   "cell_type": "code",
   "execution_count": 44,
   "id": "74d8d4c5",
   "metadata": {},
   "outputs": [
    {
     "data": {
      "text/plain": [
       "(1535040, 6)"
      ]
     },
     "execution_count": 44,
     "metadata": {},
     "output_type": "execute_result"
    }
   ],
   "source": [
    "rooms[1].shape"
   ]
  }
 ],
 "metadata": {
  "kernelspec": {
   "display_name": "Python 3 (Spyder)",
   "language": "python3",
   "name": "python3"
  },
  "language_info": {
   "codemirror_mode": {
    "name": "ipython",
    "version": 3
   },
   "file_extension": ".py",
   "mimetype": "text/x-python",
   "name": "python",
   "nbconvert_exporter": "python",
   "pygments_lexer": "ipython3",
   "version": "3.8.5"
  }
 },
 "nbformat": 4,
 "nbformat_minor": 5
}
