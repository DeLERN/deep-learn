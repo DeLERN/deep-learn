{
 "cells": [
  {
   "cell_type": "code",
   "execution_count": 1,
   "id": "a2f5a6a0",
   "metadata": {},
   "outputs": [],
   "source": [
    "import torch\n",
    "from torch_geometric.datasets import S3DIS"
   ]
  },
  {
   "cell_type": "code",
   "execution_count": 2,
   "id": "a20c2634",
   "metadata": {},
   "outputs": [
    {
     "name": "stderr",
     "output_type": "stream",
     "text": [
      "Downloading https://shapenet.cs.stanford.edu/media/indoor3d_sem_seg_hdf5_data.zip\n"
     ]
    },
    {
     "ename": "KeyboardInterrupt",
     "evalue": "",
     "output_type": "error",
     "traceback": [
      "Traceback \u001b[1;36m(most recent call last)\u001b[0m:\n",
      "  Input \u001b[0;32mIn [2]\u001b[0m in \u001b[0;35m<cell line: 1>\u001b[0m\n    dataset = S3DIS('../data/S3DIS', train = True)\n",
      "  File \u001b[0;32m~\\anaconda3\\envs\\torch-env\\lib\\site-packages\\torch_geometric\\datasets\\s3dis.py:45\u001b[0m in \u001b[0;35m__init__\u001b[0m\n    super().__init__(root, transform, pre_transform, pre_filter)\n",
      "  File \u001b[0;32m~\\anaconda3\\envs\\torch-env\\lib\\site-packages\\torch_geometric\\data\\in_memory_dataset.py:56\u001b[0m in \u001b[0;35m__init__\u001b[0m\n    super().__init__(root, transform, pre_transform, pre_filter)\n",
      "  File \u001b[0;32m~\\anaconda3\\envs\\torch-env\\lib\\site-packages\\torch_geometric\\data\\dataset.py:84\u001b[0m in \u001b[0;35m__init__\u001b[0m\n    self._download()\n",
      "  File \u001b[0;32m~\\anaconda3\\envs\\torch-env\\lib\\site-packages\\torch_geometric\\data\\dataset.py:145\u001b[0m in \u001b[0;35m_download\u001b[0m\n    self.download()\n",
      "  File \u001b[0;32m~\\anaconda3\\envs\\torch-env\\lib\\site-packages\\torch_geometric\\datasets\\s3dis.py:58\u001b[0m in \u001b[0;35mdownload\u001b[0m\n    path = download_url(self.url, self.root)\n",
      "  File \u001b[0;32m~\\anaconda3\\envs\\torch-env\\lib\\site-packages\\torch_geometric\\data\\download.py:37\u001b[0m in \u001b[0;35mdownload_url\u001b[0m\n    f.write(data.read())\n",
      "  File \u001b[0;32m~\\anaconda3\\envs\\torch-env\\lib\\http\\client.py:471\u001b[0m in \u001b[0;35mread\u001b[0m\n    s = self._safe_read(self.length)\n",
      "  File \u001b[0;32m~\\anaconda3\\envs\\torch-env\\lib\\http\\client.py:612\u001b[0m in \u001b[0;35m_safe_read\u001b[0m\n    data = self.fp.read(amt)\n",
      "  File \u001b[0;32m~\\anaconda3\\envs\\torch-env\\lib\\socket.py:669\u001b[0m in \u001b[0;35mreadinto\u001b[0m\n    return self._sock.recv_into(b)\n",
      "  File \u001b[0;32m~\\anaconda3\\envs\\torch-env\\lib\\ssl.py:1241\u001b[0m in \u001b[0;35mrecv_into\u001b[0m\n    return self.read(nbytes, buffer)\n",
      "\u001b[1;36m  File \u001b[1;32m~\\anaconda3\\envs\\torch-env\\lib\\ssl.py:1099\u001b[1;36m in \u001b[1;35mread\u001b[1;36m\u001b[0m\n\u001b[1;33m    return self._sslobj.read(len, buffer)\u001b[0m\n",
      "\u001b[1;31mKeyboardInterrupt\u001b[0m\n"
     ]
    }
   ],
   "source": [
    "dataset = S3DIS('../data/S3DIS', train = True)"
   ]
  },
  {
   "cell_type": "code",
   "execution_count": null,
   "id": "6825afdd",
   "metadata": {},
   "outputs": [],
   "source": [
    "//"
   ]
  }
 ],
 "metadata": {
  "kernelspec": {
   "display_name": "Python 3 (Spyder)",
   "language": "python3",
   "name": "python3"
  },
  "language_info": {
   "codemirror_mode": {
    "name": "ipython",
    "version": 3
   },
   "file_extension": ".py",
   "mimetype": "text/x-python",
   "name": "python",
   "nbconvert_exporter": "python",
   "pygments_lexer": "ipython3",
   "version": "3.8.5"
  }
 },
 "nbformat": 4,
 "nbformat_minor": 5
}
