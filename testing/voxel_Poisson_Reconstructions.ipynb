{
 "cells": [
  {
   "cell_type": "code",
   "execution_count": 1,
   "id": "854077e0",
   "metadata": {},
   "outputs": [],
   "source": [
    "#!pip install open3d\n",
    "#!conda install -c open3d-admin open3d"
   ]
  },
  {
   "cell_type": "code",
   "execution_count": 2,
   "id": "a10ce020",
   "metadata": {},
   "outputs": [],
   "source": [
    "#Code By Zachary Waynor\n",
    "\n"
   ]
  },
  {
   "cell_type": "code",
   "execution_count": 3,
   "id": "84756ba2",
   "metadata": {},
   "outputs": [],
   "source": [
    "import open3d as o3d\n",
    "import numpy as np\n",
    "import copy"
   ]
  },
  {
   "cell_type": "code",
   "execution_count": 31,
   "id": "f31659a2",
   "metadata": {},
   "outputs": [],
   "source": [
    "#pointCloudMatrix = [[0.0, 0, 0],[0, 0, 1],[0, 1, 0],[0, 1, 1],[1, 0, 0],[1, 0, 1],[1, 1, 0],[1, 1, 1]];\n",
    "\n",
    "#pointCloudMatrix = np.array([[0,0,0]])\n",
    "#for x in range(51):\n",
    "   # for y in range(51):\n",
    "       # for z in range(51):\n",
    "          #  if (abs(x/50) == 1 or abs(y/50) == 1 or abs(z/50)==1 or abs(x) == 0 or abs(y) == 0 or abs(z)==0):\n",
    "              #  pointCloudMatrix = np.concatenate((pointCloudMatrix,[[x/3,y/3,z/3]]),axis=0)\n",
    "#pointCloudMatrix = np.array(np.loadtxt('np_array.txt'))       \n",
    "\n",
    "pointCloudMatrix = np.array(np.loadtxt('decimated_hq_room_half.txt'))            \n"
   ]
  },
  {
   "cell_type": "code",
   "execution_count": 32,
   "id": "3851e08d",
   "metadata": {},
   "outputs": [
    {
     "data": {
      "text/plain": [
       "(1013120, 8)"
      ]
     },
     "execution_count": 32,
     "metadata": {},
     "output_type": "execute_result"
    }
   ],
   "source": [
    "pointCloudMatrix.shape"
   ]
  },
  {
   "cell_type": "code",
   "execution_count": 33,
   "id": "dc998b4f",
   "metadata": {},
   "outputs": [
    {
     "data": {
      "text/plain": [
       "(1013120, 3)"
      ]
     },
     "execution_count": 33,
     "metadata": {},
     "output_type": "execute_result"
    }
   ],
   "source": [
    "color = pointCloudMatrix[:,3:6]\n",
    "pointCloudMatrix= pointCloudMatrix[:,0:3]\n",
    "\n",
    "pointCloudMatrix.shape\n",
    "\n"
   ]
  },
  {
   "cell_type": "code",
   "execution_count": null,
   "id": "016f9ffb",
   "metadata": {},
   "outputs": [],
   "source": [
    "\n"
   ]
  },
  {
   "cell_type": "code",
   "execution_count": 34,
   "id": "1041cfb7",
   "metadata": {},
   "outputs": [],
   "source": [
    "def simplistic_mesh_creator_voxel(pointCloudMatrix,suppressOutputs=True):\n",
    "     #takes a numpy matrix of size [x,3] of points \n",
    "     #and uses open3d inorder to create a basic voxel representation of the points\n",
    "    \n",
    "    o3dPointCloud = o3d.geometry.PointCloud() #Create pointcloud object\n",
    "    o3dPointCloud.points = o3d.utility.Vector3dVector(pointCloudMatrix) #Populate with points from numpy matrix\n",
    "    o3dPointCloud.scale(1 / np.max(o3dPointCloud.get_max_bound() - o3dPointCloud.get_min_bound()),\n",
    "          center=o3dPointCloud.get_center()) #fix the scale\n",
    "    #o3dPointCloud.colors = o3d.utility.Vector3dVector(np.random.uniform(0, 1, size=(N, 3)))\n",
    "    #voxel_grid = o3d.geometry.VoxelGrid.create_from_point_cloud(o3dPointCloud,\n",
    "                                                            #voxel_size=0.05)\n",
    "    \n",
    "    v_size = round(max(o3dPointCloud.get_max_bound()-o3dPointCloud.get_min_bound())*0.005,4) #find Side of each voxel\n",
    "    \n",
    "    voxel_grid=o3d.geometry.VoxelGrid.create_from_point_cloud(o3dPointCloud,voxel_size=v_size)\n",
    "    # o3d.visualization.draw_geometries([voxel_grid]) #visualization\n",
    "    \n",
    "    voxels=voxel_grid.get_voxels()\n",
    "    vox_mesh = o3d.geometry.TriangleMesh()\n",
    "    #Generate Meshes from the voxels\n",
    "    for v in voxels:\n",
    "        cube = o3d.geometry.TriangleMesh.create_box(width=1, height=1,depth=1)\n",
    "        cube.paint_uniform_color(v.color)\n",
    "        cube.translate(v.grid_index, relative=False)\n",
    "        vox_mesh+=cube\n",
    "    \n",
    "    vox_mesh.translate([0.5,0.5,0.5], relative=True)\n",
    "    vox_mesh.scale(v_size, [0,0,0])\n",
    "    vox_mesh.translate(voxel_grid.origin, relative=True)\n",
    "    vox_mesh.merge_close_vertices(0.0000001) \n",
    "    if(not suppressOutputs):\n",
    "        o3d.visualization.draw_geometries([vox_mesh]) #visualization\n",
    "    o3d.io.write_triangle_mesh(\"Voxel.ply\", vox_mesh)\n",
    "    return vox_mesh;\n",
    "\n",
    "    "
   ]
  },
  {
   "cell_type": "code",
   "execution_count": 35,
   "id": "075effb2",
   "metadata": {},
   "outputs": [],
   "source": [
    "Out_Vox = simplistic_mesh_creator_voxel(pointCloudMatrix,False)"
   ]
  },
  {
   "cell_type": "code",
   "execution_count": null,
   "id": "4db672c8",
   "metadata": {},
   "outputs": [],
   "source": []
  },
  {
   "cell_type": "code",
   "execution_count": null,
   "id": "40cdab5d",
   "metadata": {},
   "outputs": [],
   "source": []
  },
  {
   "cell_type": "code",
   "execution_count": null,
   "id": "8ad3845f",
   "metadata": {},
   "outputs": [],
   "source": []
  },
  {
   "cell_type": "code",
   "execution_count": 36,
   "id": "8aa3db28",
   "metadata": {},
   "outputs": [],
   "source": [
    "import matplotlib.pyplot as plt"
   ]
  },
  {
   "cell_type": "code",
   "execution_count": 37,
   "id": "30a57df6",
   "metadata": {},
   "outputs": [],
   "source": [
    "def simplistic_mesh_creator_poisson(pointCloudMatrix,suppressOutputs=True):\n",
    "    pcd = o3d.geometry.PointCloud()\n",
    "    pcd.points = o3d.utility.Vector3dVector(pointCloudMatrix)\n",
    "    pcd.scale(1 / np.max(pcd.get_max_bound() - pcd.get_min_bound()), center=pcd.get_center())\n",
    "    #o3d.visualization.draw_geometries([pcd])\n",
    "\n",
    "    pcd.normals = o3d.utility.Vector3dVector(np.zeros((1, 3))) #remove exiting Normals\n",
    "    #pcd.estimate_normals() #Estimate new normals base on pointcloud\n",
    "    radius = 0.1   # \n",
    "    max_nn = 30   # \n",
    "    pcd.estimate_normals(search_param=o3d.geometry.KDTreeSearchParamHybrid(radius, max_nn))\n",
    "    pcd.orient_normals_consistent_tangent_plane(100) #Takes a while but works!\n",
    "    \n",
    "    if(not suppressOutputs):\n",
    "        o3d.visualization.draw_geometries([pcd], point_show_normal=True)\n",
    "    with o3d.utility.VerbosityContextManager(\n",
    "        o3d.utility.VerbosityLevel.Debug) as cm:\n",
    "            mesh, densities = o3d.geometry.TriangleMesh.create_from_point_cloud_poisson(\n",
    "                pcd, depth=9)\n",
    "    if(not suppressOutputs):        \n",
    "        o3d.visualization.draw_geometries([mesh])\n",
    "        print('visualize densities')\n",
    "    densities = np.asarray(densities)\n",
    "    density_colors = plt.get_cmap('plasma')(\n",
    "    (densities - densities.min()) / (densities.max() - densities.min()))\n",
    "    density_colors = density_colors[:, :3]\n",
    "    density_mesh = o3d.geometry.TriangleMesh()\n",
    "    \n",
    "    density_mesh.vertices = mesh.vertices\n",
    "    density_mesh.triangles = mesh.triangles\n",
    "    density_mesh.triangle_normals = mesh.triangle_normals\n",
    "    density_mesh.vertex_colors = o3d.utility.Vector3dVector(density_colors)\n",
    "    if(not suppressOutputs):\n",
    "        o3d.visualization.draw_geometries([density_mesh],mesh_show_back_face=True)\n",
    "    \n",
    "    rough_Density_Mesh = copy.deepcopy(density_mesh);\n",
    "    \n",
    "    o3d.io.write_triangle_mesh(\"density_mesh_possian_full.ply\", density_mesh)\n",
    "    \n",
    "    \n",
    "    print('remove low density vertices')\n",
    "\n",
    "    #o3d.visualization.draw_geometries([density_mesh],mesh_show_back_face=True)\n",
    "    vertices_to_remove = densities < np.quantile(densities, 0.05) #best Density For most cases\n",
    "    density_mesh.remove_vertices_by_mask(vertices_to_remove)\n",
    "    print(mesh)\n",
    "    if(not suppressOutputs):\n",
    "        o3d.visualization.draw_geometries([density_mesh],mesh_show_back_face=True)\n",
    "    o3d.io.write_triangle_mesh(\"density_mesh_possian_reduced.ply\", density_mesh)\n",
    "    return pcd, mesh, rough_Density_Mesh, density_mesh;\n",
    "   "
   ]
  },
  {
   "cell_type": "code",
   "execution_count": 38,
   "id": "fc5035cb",
   "metadata": {},
   "outputs": [
    {
     "ename": "MemoryError",
     "evalue": "bad allocation",
     "output_type": "error",
     "traceback": [
      "Traceback \u001b[1;36m(most recent call last)\u001b[0m:\n",
      "  File \u001b[0;32m\"<ipython-input-38-4519e63536c9>\"\u001b[0m, line \u001b[0;32m1\u001b[0m, in \u001b[0;35m<module>\u001b[0m\n    pointCloud_EstimatedNormals,Out_PosRough,Out_PosRColored,Out_Pos=simplistic_mesh_creator_poisson(pointCloudMatrix,False)\n",
      "\u001b[1;36m  File \u001b[1;32m\"<ipython-input-37-65dec5bddd48>\"\u001b[1;36m, line \u001b[1;32m12\u001b[1;36m, in \u001b[1;35msimplistic_mesh_creator_poisson\u001b[1;36m\u001b[0m\n\u001b[1;33m    pcd.orient_normals_consistent_tangent_plane(100) #Takes a while but works!\u001b[0m\n",
      "\u001b[1;31mMemoryError\u001b[0m\u001b[1;31m:\u001b[0m bad allocation\n"
     ]
    }
   ],
   "source": [
    "pointCloud_EstimatedNormals,Out_PosRough,Out_PosRColored,Out_Pos=simplistic_mesh_creator_poisson(pointCloudMatrix,False)"
   ]
  },
  {
   "cell_type": "code",
   "execution_count": 12,
   "id": "56e39082",
   "metadata": {},
   "outputs": [],
   "source": [
    "def generateBallPivot(pointCloud_With_Estimated_Normals,suppressOutputs=True):\n",
    "    radii = [0.005, 0.01, 0.02, 0.04,0.08]\n",
    "    rec_mesh = o3d.geometry.TriangleMesh.create_from_point_cloud_ball_pivoting(\n",
    "        pointCloud_With_Estimated_Normals, o3d.utility.DoubleVector(radii))\n",
    "    if(not suppressOutputs):\n",
    "        o3d.visualization.draw_geometries([pointCloud_With_Estimated_Normals, rec_mesh])\n",
    "    o3d.io.write_triangle_mesh(\"BallPivot.ply\", rec_mesh)\n",
    "    return rec_mesh"
   ]
  },
  {
   "cell_type": "code",
   "execution_count": 13,
   "id": "3c90c87e",
   "metadata": {},
   "outputs": [],
   "source": [
    "Out_BallPivot = generateBallPivot(pointCloud_EstimatedNormals,False);"
   ]
  },
  {
   "cell_type": "code",
   "execution_count": 14,
   "id": "ba272340",
   "metadata": {},
   "outputs": [],
   "source": [
    "def generateConvexHull(pointCloudMatrix,suppressOutputs=True):\n",
    "\n",
    "    pcd = o3d.geometry.PointCloud()\n",
    "    pcd.points = o3d.utility.Vector3dVector(pointCloudMatrix)\n",
    "    pcd.scale(1 / np.max(pcd.get_max_bound() - pcd.get_min_bound()), center=pcd.get_center())\n",
    "\n",
    "    hull, _ = pcd.compute_convex_hull()\n",
    "    hull_ls = o3d.geometry.LineSet.create_from_triangle_mesh(hull)\n",
    "    hull_ls.paint_uniform_color((0, 0, 1))\n",
    "    if(not suppressOutputs):\n",
    "        o3d.visualization.draw_geometries([hull,hull_ls],mesh_show_back_face=True)\n",
    "    o3d.io.write_triangle_mesh(\"ConvexHull.ply\", hull)\n",
    "    return hull;"
   ]
  },
  {
   "cell_type": "code",
   "execution_count": 15,
   "id": "81e77360",
   "metadata": {},
   "outputs": [],
   "source": [
    "Out_Hull = generateConvexHull(pointCloudMatrix,False)"
   ]
  },
  {
   "cell_type": "code",
   "execution_count": null,
   "id": "809d2e82",
   "metadata": {},
   "outputs": [],
   "source": []
  },
  {
   "cell_type": "code",
   "execution_count": 16,
   "id": "9e9a827e",
   "metadata": {},
   "outputs": [
    {
     "name": "stdout",
     "output_type": "stream",
     "text": [
      "Requirement already satisfied: pytorch3d in c:\\users\\zmw32\\anaconda3\\lib\\site-packages (0.6.1)\n",
      "Requirement already satisfied: fvcore in c:\\users\\zmw32\\anaconda3\\lib\\site-packages (from pytorch3d) (0.1.5.post20220212)\n",
      "Requirement already satisfied: iopath in c:\\users\\zmw32\\anaconda3\\lib\\site-packages (from pytorch3d) (0.1.9)\n",
      "Requirement already satisfied: pyyaml>=5.1 in c:\\users\\zmw32\\anaconda3\\lib\\site-packages (from fvcore->pytorch3d) (5.4.1)\n",
      "Requirement already satisfied: yacs>=0.1.6 in c:\\users\\zmw32\\anaconda3\\lib\\site-packages (from fvcore->pytorch3d) (0.1.8)\n",
      "Requirement already satisfied: tabulate in c:\\users\\zmw32\\anaconda3\\lib\\site-packages (from fvcore->pytorch3d) (0.8.9)\n",
      "Requirement already satisfied: termcolor>=1.1 in c:\\users\\zmw32\\anaconda3\\lib\\site-packages (from fvcore->pytorch3d) (1.1.0)\n",
      "Requirement already satisfied: tqdm in c:\\users\\zmw32\\anaconda3\\lib\\site-packages (from fvcore->pytorch3d) (4.59.0)\n",
      "Requirement already satisfied: numpy in c:\\users\\zmw32\\anaconda3\\lib\\site-packages (from fvcore->pytorch3d) (1.22.3)\n",
      "Requirement already satisfied: Pillow in c:\\users\\zmw32\\anaconda3\\lib\\site-packages (from fvcore->pytorch3d) (8.2.0)\n",
      "Requirement already satisfied: portalocker in c:\\users\\zmw32\\anaconda3\\lib\\site-packages (from iopath->pytorch3d) (2.3.2)\n",
      "Requirement already satisfied: pywin32>=226 in c:\\users\\zmw32\\anaconda3\\lib\\site-packages (from portalocker->iopath->pytorch3d) (227)\n"
     ]
    }
   ],
   "source": [
    "import os\n",
    "import sys\n",
    "import torch\n",
    "!pip install pytorch3d\n",
    "from pytorch3d.io import load_obj, save_obj\n",
    "from pytorch3d.structures import Meshes\n",
    "from pytorch3d.utils import ico_sphere\n",
    "from pytorch3d.ops import sample_points_from_meshes,cubify\n",
    "from pytorch3d.loss import (\n",
    "    chamfer_distance, \n",
    "    mesh_edge_loss, \n",
    "    mesh_laplacian_smoothing, \n",
    "    mesh_normal_consistency,\n",
    "    point_mesh_face_distance\n",
    ")\n",
    "import numpy as np\n",
    "import matplotlib\n",
    "from mpl_toolkits.mplot3d import Axes3D\n",
    "from tqdm.notebook import tqdm"
   ]
  },
  {
   "cell_type": "code",
   "execution_count": 17,
   "id": "f897a16e",
   "metadata": {},
   "outputs": [
    {
     "name": "stdout",
     "output_type": "stream",
     "text": [
      "WARNING: CPU only, this will be slow!\n"
     ]
    }
   ],
   "source": [
    "# Set the device\n",
    "if torch.cuda.is_available():\n",
    "    device = torch.device(\"cuda:0\")\n",
    "else:\n",
    "    device = torch.device(\"cpu\")\n",
    "    print(\"WARNING: CPU only, this will be slow!\")"
   ]
  },
  {
   "cell_type": "code",
   "execution_count": 16,
   "id": "c2cf46a9",
   "metadata": {},
   "outputs": [],
   "source": [
    "\n",
    "#src_obj = os.path.join('voxel.o')\n",
    "#verts, faces, aux = load_obj(src_obj)\n",
    "#faces_idx = faces.verts_idx.to(device)\n",
    "#verts = verts.to(device)\n",
    "#src_mesh = Meshes(verts=[verts], faces=[faces_idx])\n",
    "\n",
    "\n",
    "#trg_mesh = torch.tensor([pointCloudMatrix.tolist()])\n",
    "#target_point_count = trg_mesh.size(dim=1)\n",
    "\n",
    "#sample_trg = trg_mesh\n",
    "#sample_src = sample_points_from_meshes(src_mesh, 5000)\n",
    "\n",
    "\n",
    "#loss_chamfer, _ = chamfer_distance(sample_trg, sample_src)\n",
    "\n",
    "#print(loss_chamfer);\n"
   ]
  },
  {
   "cell_type": "code",
   "execution_count": 18,
   "id": "ebb73cc1",
   "metadata": {},
   "outputs": [
    {
     "name": "stdout",
     "output_type": "stream",
     "text": [
      "[Open3D WARNING] GLFW Error: Win32: Failed to convert clipboard to string: The operation completed successfully. \n",
      "[Open3D WARNING] GLFW Error: Win32: Failed to convert clipboard to string: The operation completed successfully. \n",
      "[Open3D WARNING] GLFW Error: Win32: Failed to convert clipboard to string: The operation completed successfully. \n"
     ]
    },
    {
     "data": {
      "text/plain": [
       "TriangleMesh with 50469 points and 99717 triangles."
      ]
     },
     "execution_count": 18,
     "metadata": {},
     "output_type": "execute_result"
    }
   ],
   "source": [
    "\n",
    "Out_Hull_Translated = Out_Hull\n",
    "Out_Hull_Translated.translate([1.5,0,0])\n",
    "Out_BallPivot.translate([1.5*2,0,0])\n",
    "Out_PosRough.translate([1.5*3,0,0])\n",
    "Out_PosRColored.translate([1.5*4,0,0])\n",
    "Out_Pos.translate([1.5*5,0,0])\n",
    "\n",
    "\n",
    "o3d.visualization.draw_geometries([Out_Vox, Out_Hull_Translated,Out_BallPivot,Out_PosRough,Out_PosRColored,Out_Pos],mesh_show_back_face=True)\n",
    "Out_Hull_Translated.translate([-1.5,0,0])\n",
    "Out_BallPivot.translate([1.5*-2,0,0])\n",
    "Out_PosRough.translate([-1.5*3,0,0])\n",
    "Out_PosRColored.translate([-1.5*4,0,0])\n",
    "Out_Pos.translate([-1.5*5,0,0])\n",
    "\n"
   ]
  },
  {
   "cell_type": "code",
   "execution_count": 63,
   "id": "6e164432",
   "metadata": {},
   "outputs": [],
   "source": [
    "#indiviudaul Display For Demo: Vox\n",
    "o3d.visualization.draw_geometries([Out_Vox],mesh_show_back_face=True)"
   ]
  },
  {
   "cell_type": "code",
   "execution_count": 52,
   "id": "ba0eb485",
   "metadata": {},
   "outputs": [],
   "source": [
    "#indiviudaul Display For Demo: Hull\n",
    "o3d.visualization.draw_geometries([Out_Hull],mesh_show_back_face=True)"
   ]
  },
  {
   "cell_type": "code",
   "execution_count": 20,
   "id": "c036f298",
   "metadata": {},
   "outputs": [],
   "source": [
    "#indiviudaul Display For Demo: Estimated Normals:\n",
    "o3d.visualization.draw_geometries([pointCloud_EstimatedNormals], point_show_normal=True)"
   ]
  },
  {
   "cell_type": "code",
   "execution_count": 21,
   "id": "40b62323",
   "metadata": {},
   "outputs": [],
   "source": [
    "#indiviudaul Display For Demo: BallPivot\n",
    "o3d.visualization.draw_geometries([Out_BallPivot],mesh_show_back_face=True)"
   ]
  },
  {
   "cell_type": "code",
   "execution_count": 54,
   "id": "b13d6bdc",
   "metadata": {},
   "outputs": [],
   "source": [
    "#indiviudaul Display For Demo: Poisson\n",
    "o3d.visualization.draw_geometries([Out_PosRColored],mesh_show_back_face=True)"
   ]
  },
  {
   "cell_type": "code",
   "execution_count": null,
   "id": "6ace9289",
   "metadata": {},
   "outputs": [],
   "source": []
  },
  {
   "cell_type": "code",
   "execution_count": 55,
   "id": "60b4f3f8",
   "metadata": {},
   "outputs": [],
   "source": [
    "#indiviudaul Display For Demo: Poisson Removed Low Densities\n",
    "o3d.visualization.draw_geometries([Out_Pos],mesh_show_back_face=True)"
   ]
  },
  {
   "cell_type": "code",
   "execution_count": null,
   "id": "2a8008ba",
   "metadata": {},
   "outputs": [],
   "source": []
  },
  {
   "cell_type": "code",
   "execution_count": 19,
   "id": "740ec6ff",
   "metadata": {},
   "outputs": [],
   "source": [
    "def MultipleObjectReconstruction(dataset_name,suppressOutputs=True,suppressOutputs2=True):\n",
    "    FullListOfOutputs = []\n",
    "    FullListChamferLoss = []\n",
    "\n",
    "    i=0\n",
    "    for dataset_selector in dataset_name:\n",
    "        data = np.loadtxt(f\"../utils/dataset/{dataset_selector}.txt\")\n",
    "\n",
    "        #DECIMATION_CONSTANT = 64\n",
    "        DECIMATION_CONSTANT = 1\n",
    "\n",
    "        decimated_vert = []\n",
    "\n",
    "        for i in range(len(data)):\n",
    "            if(i % DECIMATION_CONSTANT == 0):\n",
    "                decimated_vert.append(data[i])\n",
    "        print(len(decimated_vert))\n",
    "        pointCloudMatrix = np.array(np.asarray(decimated_vert)  )    \n",
    "        pointCloudMatrix.shape\n",
    "        color = pointCloudMatrix[:,3:6]\n",
    "        pointCloudMatrix= pointCloudMatrix[:,0:3]\n",
    "        pointCloudMatrix.shape\n",
    "        Out_Vox = simplistic_mesh_creator_voxel(pointCloudMatrix)\n",
    "        pointCloud_EstimatedNormals1,Out_PosRough,Out_PosRColored,Out_Pos=simplistic_mesh_creator_poisson(pointCloudMatrix)\n",
    "        Out_BallPivot = generateBallPivot(pointCloud_EstimatedNormals1);\n",
    "        Out_Hull = generateConvexHull(pointCloudMatrix)\n",
    "        o3dPointCloud = o3d.geometry.PointCloud() #Create pointcloud object\n",
    "        o3dPointCloud.points = o3d.utility.Vector3dVector(pointCloudMatrix) #Populate with points from numpy matrix\n",
    "        o3dPointCloud.scale(1 / np.max(o3dPointCloud.get_max_bound() - o3dPointCloud.get_min_bound()),\n",
    "              center=o3dPointCloud.get_center())\n",
    "        \n",
    "        if(not suppressOutputs):\n",
    "            o3dPointCloud.translate([-1.5,0,0])\n",
    "            Out_Hull.translate([1.5,0,0])\n",
    "            Out_BallPivot.translate([1.5*2,0,0])\n",
    "            Out_PosRough.translate([1.5*3,0,0])\n",
    "            Out_PosRColored.translate([1.5*4,0,0])\n",
    "            Out_Pos.translate([1.5*5,0,0])\n",
    "            o3d.visualization.draw_geometries([Out_Vox, \n",
    "                                               Out_Hull,\n",
    "                                               Out_BallPivot,\n",
    "                                               Out_PosRough,\n",
    "                                               Out_PosRColored,\n",
    "                                               Out_Pos,\n",
    "                                               o3dPointCloud\n",
    "                                              ], mesh_show_back_face=True)\n",
    "            o3dPointCloud.translate([1.5,0,0])\n",
    "            Out_Hull.translate([-1.5,0,0])\n",
    "            Out_BallPivot.translate([1.5*-2,0,0])\n",
    "            Out_PosRough.translate([-1.5*3,0,0])\n",
    "            Out_PosRColored.translate([-1.5*4,0,0])\n",
    "            Out_Pos.translate([-1.5*5,0,0])\n",
    "            \n",
    "            \n",
    "\n",
    "        \n",
    "       \n",
    "        FullListOfOutputs.insert(0+(i*6), o3dPointCloud)\n",
    "        FullListOfOutputs.insert(1+(i*6), Out_Hull)\n",
    "        FullListOfOutputs.insert(2+(i*6), Out_BallPivot)\n",
    "        FullListOfOutputs.insert(3+(i*6), Out_PosRough)\n",
    "        FullListOfOutputs.insert(4+(i*6), Out_PosRColored)\n",
    "        FullListOfOutputs.insert(5+(i*6), Out_Pos)\n",
    "        i = i+1\n",
    "        \n",
    "    if(not suppressOutputs2):\n",
    "        \n",
    "        for x in range(len(dataset_name)):\n",
    "            for y in range(6):\n",
    "                FullListOfOutputs[y+(x*6)].translate([1.5*y,0,-1.5*x])\n",
    "\n",
    "\n",
    "\n",
    "            o3d.visualization.draw_geometries(FullListOfOutputs, mesh_show_back_face=True)   \n",
    "\n",
    "\n",
    "        for x in range(len(dataset_name)):\n",
    "               for y in range(6):\n",
    "                    FullListOfOutputs[y+(x*6)].translate([-1.5*y,0,+1.5*x])\n",
    "\n",
    "    \n",
    "    return FullListOfOutputs\n"
   ]
  },
  {
   "cell_type": "code",
   "execution_count": 27,
   "id": "234cbebd",
   "metadata": {},
   "outputs": [
    {
     "name": "stdout",
     "output_type": "stream",
     "text": [
      "1013120\n"
     ]
    },
    {
     "ename": "MemoryError",
     "evalue": "bad allocation",
     "output_type": "error",
     "traceback": [
      "Traceback \u001b[1;36m(most recent call last)\u001b[0m:\n",
      "  File \u001b[0;32m\"<ipython-input-27-5eb7274572a6>\"\u001b[0m, line \u001b[0;32m6\u001b[0m, in \u001b[0;35m<module>\u001b[0m\n    FullListOfOutputs = MultipleObjectReconstruction(dataset_name,True,True)\n",
      "  File \u001b[0;32m\"<ipython-input-19-7aee804e9145>\"\u001b[0m, line \u001b[0;32m24\u001b[0m, in \u001b[0;35mMultipleObjectReconstruction\u001b[0m\n    pointCloud_EstimatedNormals1,Out_PosRough,Out_PosRColored,Out_Pos=simplistic_mesh_creator_poisson(pointCloudMatrix)\n",
      "\u001b[1;36m  File \u001b[1;32m\"<ipython-input-10-65dec5bddd48>\"\u001b[1;36m, line \u001b[1;32m12\u001b[1;36m, in \u001b[1;35msimplistic_mesh_creator_poisson\u001b[1;36m\u001b[0m\n\u001b[1;33m    pcd.orient_normals_consistent_tangent_plane(100) #Takes a while but works!\u001b[0m\n",
      "\u001b[1;31mMemoryError\u001b[0m\u001b[1;31m:\u001b[0m bad allocation\n"
     ]
    }
   ],
   "source": [
    "#dataset_name = [\"office_1\",\"office_2\",\"copyRoom_1\",\"pantry_1\",\"conferenceRoom_1\"]\n",
    "#dataset_name = [\"vertices-schair-office\",\"vertices-sroom-bed\",\"vertices-sroom-full\",\"vertices-schair-folding\"]\n",
    "#dataset_name = [\"vertices-schair-office\",\"vertices-sroom-bed\",\"vertices-sroom-full\",\"vertices-schair-folding\",\"cat\"]\n",
    "#dataset_name = [\"vertices-zach-headon\"]\n",
    "dataset_name = [\"decimated_hq_room_half\"]\n",
    "FullListOfOutputs = MultipleObjectReconstruction(dataset_name,True,True)\n"
   ]
  },
  {
   "cell_type": "code",
   "execution_count": 21,
   "id": "050b06b9",
   "metadata": {},
   "outputs": [],
   "source": [
    "\n",
    "def GetVisualization(ObjectIndex,TypeIndex):\n",
    "     # 0:o3dPointCloud\n",
    "     # 1:Out_Hull\n",
    "     # 2:Out_BallPivot\n",
    "     # 3:Out_PosRough\n",
    "     # 4:Out_PosRColored\n",
    "     # 5:Out_Pos\n",
    "    o3d.visualization.draw_geometries([FullListOfOutputs[TypeIndex +(6*ObjectIndex)]],mesh_show_back_face=True)\n",
    "    \n",
    "def GetGroupVisualization(ObjectIndex):\n",
    "    x=ObjectIndex\n",
    "    sublist = []\n",
    "    for y in range(6):\n",
    "        FullListOfOutputs[y+(x*6)].translate([1.5*y,0,-1.5*x])\n",
    "        sublist.insert(y,FullListOfOutputs[y+(x*6)])\n",
    "        \n",
    "    o3d.visualization.draw_geometries(sublist, mesh_show_back_face=True)   \n",
    "    \n",
    "    for y in range(6):\n",
    "         FullListOfOutputs[y+(x*6)].translate([-1.5*y,0,+1.5*x])\n",
    "        \n",
    "  \n",
    "    "
   ]
  },
  {
   "cell_type": "code",
   "execution_count": 22,
   "id": "93592cb2",
   "metadata": {},
   "outputs": [],
   "source": [
    "GetVisualization(3,0)"
   ]
  },
  {
   "cell_type": "code",
   "execution_count": 23,
   "id": "949b9fa1",
   "metadata": {},
   "outputs": [
    {
     "name": "stdout",
     "output_type": "stream",
     "text": [
      "[Open3D WARNING] GLFW Error: Win32: Failed to convert clipboard to string: The operation completed successfully. \n",
      "[Open3D WARNING] GLFW Error: Win32: Failed to convert clipboard to string: The operation completed successfully. \n"
     ]
    }
   ],
   "source": [
    "#Bad Chair\n",
    "\n",
    "GetGroupVisualization(0)\n"
   ]
  },
  {
   "cell_type": "code",
   "execution_count": 103,
   "id": "6154c4fd",
   "metadata": {},
   "outputs": [],
   "source": [
    "#Bed \n",
    "GetGroupVisualization(2)\n"
   ]
  },
  {
   "cell_type": "code",
   "execution_count": 26,
   "id": "6c598107",
   "metadata": {},
   "outputs": [
    {
     "name": "stdout",
     "output_type": "stream",
     "text": [
      "[Open3D WARNING] GLFW Error: Win32: Failed to convert clipboard to string: The operation completed successfully. \n",
      "[Open3D WARNING] [ViewControl] SetViewPoint() failed because window height and width are not set.\n"
     ]
    }
   ],
   "source": [
    "#Good chair\n",
    "GetGroupVisualization(3)"
   ]
  },
  {
   "cell_type": "code",
   "execution_count": 114,
   "id": "c0db3ab4",
   "metadata": {},
   "outputs": [],
   "source": [
    "GetGroupVisualization(4)"
   ]
  },
  {
   "cell_type": "code",
   "execution_count": 90,
   "id": "752352e9",
   "metadata": {},
   "outputs": [],
   "source": [
    "import pandas as pd"
   ]
  },
  {
   "cell_type": "code",
   "execution_count": 24,
   "id": "654ee99d",
   "metadata": {},
   "outputs": [],
   "source": [
    "    \n",
    "def GetChamferDistance(ObjectIndex,TypeIndex,suppressOutputs=True):\n",
    "    \n",
    "    NumPoints = (np.asarray(FullListOfOutputs[(6*ObjectIndex)].points).shape[0])\n",
    "    x = FullListOfOutputs[(6*ObjectIndex+1)].sample_points_uniformly(number_of_points=NumPoints)\n",
    "    dists = np.asarray(FullListOfOutputs[(6*ObjectIndex)].compute_point_cloud_distance(x))\n",
    "    if(not suppressOutputs):\n",
    "        df = pd.DataFrame({\"distances\": dists}) \n",
    "        ax1 = df.boxplot(return_type=\"axes\") \n",
    "        ax2 = df.plot(kind=\"hist\", alpha=0.5, bins = 1000)\n",
    "        ax3 = df.plot(kind=\"line\") \n",
    "    plt.show()\n",
    "    dists = abs((sum(dists)/NumPoints))\n",
    "    return dists"
   ]
  },
  {
   "cell_type": "code",
   "execution_count": 25,
   "id": "8097a723",
   "metadata": {},
   "outputs": [
    {
     "name": "stdout",
     "output_type": "stream",
     "text": [
      "Chamfer         Method 1    Method 2    Method 3    Method 4    Method 5\n",
      "------------  ----------  ----------  ----------  ----------  ----------\n",
      "PointCLoud 0   0.0522336   0.0522331   0.0522351   0.0522332   0.0522305\n",
      "PointCLoud 1   0.101184    0.101191    0.101188    0.101192    0.101193\n",
      "PointCLoud 2   0.0626759   0.0626792   0.0626766   0.0626756   0.0626759\n",
      "PointCLoud 3   0.0571665   0.0571636   0.0571648   0.0571652   0.0571672\n",
      "PointCLoud 4   0.0959838   0.0959693   0.0959797   0.0959824   0.0959772\n"
     ]
    }
   ],
   "source": [
    "from tabulate import tabulate\n",
    "table = []\n",
    "row1 = []\n",
    "row1.insert(0,\"Chamfer\")\n",
    "for x in range(1,6):\n",
    "    row1.insert(x+1,\"Method \"+ str(x))\n",
    "table.insert(0,row1)\n",
    "for x in range(len(dataset_name)):\n",
    "    row =[]\n",
    "    row.insert(0,\"PointCLoud \"+ str(x))\n",
    "    for y in range(1,6):\n",
    "        k=0\n",
    "        for z in range(10):\n",
    "            k = k+GetChamferDistance(x,y)\n",
    "        row.insert(y+1,k/10)\n",
    "    table.insert(x+1,row)\n",
    "print(tabulate(table,headers='firstrow'))"
   ]
  },
  {
   "cell_type": "code",
   "execution_count": null,
   "id": "d646fb7b",
   "metadata": {},
   "outputs": [],
   "source": [
    "ReconstructionChoice = []\n",
    "for x in range(len(dataset_name)):\n",
    "#for x in range(1,2):\n",
    "    row =[]\n",
    "    for y in range(1,6):\n",
    "        \n",
    "        k=0\n",
    "        for z in range(10):\n",
    "            c=GetChamferDistance(x,y)\n",
    "            k = k+c\n",
    "        row.insert(y,k/10)\n",
    "    print(row)\n",
    "    ReconstructionChoice.insert(x,row.index(min(row))+1)\n",
    "    print(row.index(min(row))+1)\n",
    "    "
   ]
  },
  {
   "cell_type": "code",
   "execution_count": null,
   "id": "5bc48190",
   "metadata": {},
   "outputs": [],
   "source": [
    "for x in range(len(dataset_name)):\n",
    "    GetVisualization(x,ReconstructionChoice[x])"
   ]
  },
  {
   "cell_type": "code",
   "execution_count": 90,
   "id": "5d04abbb",
   "metadata": {},
   "outputs": [
    {
     "name": "stdout",
     "output_type": "stream",
     "text": [
      "33659\n",
      "[Open3D DEBUG] Input Points / Samples: 33659 / 5636\n",
      "[Open3D DEBUG] #   Got kernel density: 0.0480001 (s), 396.445 (MB) / 550.676 (MB) / 717 (MB)\n",
      "[Open3D DEBUG] #     Got normal field: 0.112 (s), 396.719 (MB) / 550.676 (MB) / 717 (MB)\n",
      "[Open3D DEBUG] Point weight / Estimated Area: 1.334684e-05 / 4.492414e-01\n",
      "[Open3D DEBUG] #       Finalized tree: 0.274 (s), 415.09 (MB) / 550.676 (MB) / 717 (MB)\n",
      "[Open3D DEBUG] #  Set FEM constraints: 0.538 (s), 405.105 (MB) / 550.676 (MB) / 717 (MB)\n",
      "[Open3D DEBUG] #Set point constraints: 0.046 (s), 403.797 (MB) / 550.676 (MB) / 717 (MB)\n",
      "[Open3D DEBUG] Leaf Nodes / Active Nodes / Ghost Nodes: 490463 / 550768 / 9761\n",
      "[Open3D DEBUG] Memory Usage: 403.797 MB\n",
      "[Open3D DEBUG] # Linear system solved: 0.814 (s), 411.547 (MB) / 550.676 (MB) / 717 (MB)\n",
      "[Open3D DEBUG] Got average: 0.0119998 (s), 408.066 (MB) / 550.676 (MB) / 717 (MB)\n",
      "[Open3D DEBUG] Iso-Value: 4.989661e-01 = 1.679470e+04 / 3.365900e+04\n",
      "[Open3D DEBUG] #          Total Solve:       4.2 (s),     550.7 (MB)\n",
      "remove low density vertices\n",
      "TriangleMesh with 99735 points and 199174 triangles.\n"
     ]
    }
   ],
   "source": [
    "dataset_name = [\"cat\"]\n",
    "FullListOfOutputs = MultipleObjectReconstruction(dataset_name,True,True)"
   ]
  },
  {
   "cell_type": "code",
   "execution_count": 92,
   "id": "cf790382",
   "metadata": {},
   "outputs": [],
   "source": [
    "GetGroupVisualization(0)"
   ]
  },
  {
   "cell_type": "code",
   "execution_count": null,
   "id": "a676654a",
   "metadata": {},
   "outputs": [],
   "source": []
  }
 ],
 "metadata": {
  "kernelspec": {
   "display_name": "Python 3 (Spyder)",
   "language": "python3",
   "name": "python3"
  },
  "language_info": {
   "codemirror_mode": {
    "name": "ipython",
    "version": 3
   },
   "file_extension": ".py",
   "mimetype": "text/x-python",
   "name": "python",
   "nbconvert_exporter": "python",
   "pygments_lexer": "ipython3",
   "version": "3.8.8"
  }
 },
 "nbformat": 4,
 "nbformat_minor": 5
}
