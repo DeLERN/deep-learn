{
 "cells": [
  {
   "cell_type": "code",
   "execution_count": 1,
   "id": "4714451e",
   "metadata": {},
   "outputs": [],
   "source": [
    "#!pip install open3d\n",
    "#!conda install -c open3d-admin open3d"
   ]
  },
  {
   "cell_type": "code",
   "execution_count": null,
   "id": "a2015bd3",
   "metadata": {},
   "outputs": [],
   "source": []
  },
  {
   "cell_type": "code",
   "execution_count": 2,
   "id": "33543d2f",
   "metadata": {},
   "outputs": [
    {
     "ename": "ModuleNotFoundError",
     "evalue": "No module named 'open3d'",
     "output_type": "error",
     "traceback": [
      "\u001b[1;31m---------------------------------------------------------------------------\u001b[0m",
      "\u001b[1;31mModuleNotFoundError\u001b[0m                       Traceback (most recent call last)",
      "\u001b[1;32m<ipython-input-2-f2394f660fde>\u001b[0m in \u001b[0;36m<module>\u001b[1;34m\u001b[0m\n\u001b[1;32m----> 1\u001b[1;33m \u001b[1;32mimport\u001b[0m \u001b[0mopen3d\u001b[0m \u001b[1;32mas\u001b[0m \u001b[0mo3d\u001b[0m\u001b[1;33m\u001b[0m\u001b[1;33m\u001b[0m\u001b[0m\n\u001b[0m\u001b[0;32m      2\u001b[0m \u001b[1;32mimport\u001b[0m \u001b[0mnumpy\u001b[0m \u001b[1;32mas\u001b[0m \u001b[0mnp\u001b[0m\u001b[1;33m\u001b[0m\u001b[1;33m\u001b[0m\u001b[0m\n",
      "\u001b[1;31mModuleNotFoundError\u001b[0m: No module named 'open3d'"
     ]
    }
   ],
   "source": [
    "import open3d as o3d\n",
    "import numpy as np"
   ]
  },
  {
   "cell_type": "code",
   "execution_count": 3,
   "id": "5e28c56e",
   "metadata": {},
   "outputs": [],
   "source": [
    "#pointCloudMatrix = [[0.0, 0, 0],[0, 0, 1],[0, 1, 0],[0, 1, 1],[1, 0, 0],[1, 0, 1],[1, 1, 0],[1, 1, 1]];\n",
    "\n",
    "#pointCloudMatrix = np.array([[0,0,0]])\n",
    "#for x in range(51):\n",
    "   # for y in range(51):\n",
    "       # for z in range(51):\n",
    "          #  if (abs(x/50) == 1 or abs(y/50) == 1 or abs(z/50)==1 or abs(x) == 0 or abs(y) == 0 or abs(z)==0):\n",
    "              #  pointCloudMatrix = np.concatenate((pointCloudMatrix,[[x/3,y/3,z/3]]),axis=0)\n",
    "#pointCloudMatrix = np.array(np.loadtxt('np_array.txt'))                \n",
    "pointCloudMatrix = np.array(np.loadtxt('decimated_hq_room_half.txt'))            \n"
   ]
  },
  {
   "cell_type": "code",
   "execution_count": 4,
   "id": "05f94903",
   "metadata": {},
   "outputs": [
    {
     "data": {
      "text/plain": [
       "(1013120, 8)"
      ]
     },
     "execution_count": 4,
     "metadata": {},
     "output_type": "execute_result"
    }
   ],
   "source": [
    "pointCloudMatrix.shape"
   ]
  },
  {
   "cell_type": "code",
   "execution_count": 5,
   "id": "49a8f739",
   "metadata": {},
   "outputs": [
    {
     "data": {
      "text/plain": [
       "(1013120, 3)"
      ]
     },
     "execution_count": 5,
     "metadata": {},
     "output_type": "execute_result"
    }
   ],
   "source": [
    "pointCloudMatrix= pointCloudMatrix[:,0:3]\n",
    "pointCloudMatrix.shape"
   ]
  },
  {
   "cell_type": "code",
   "execution_count": 18,
   "id": "7d95871b",
   "metadata": {},
   "outputs": [],
   "source": [
    "def simplistic_mesh_creator_voxel(pointCloudMatrix):\n",
    "     #takes a numpy matrix of size [x,3] of points \n",
    "     #and uses open3d inorder to create a basic voxel representation of the points\n",
    "    \n",
    "    o3dPointCloud = o3d.geometry.PointCloud() #Create pointcloud object\n",
    "    o3dPointCloud.points = o3d.utility.Vector3dVector(pointCloudMatrix) #Populate with points from numpy matrix\n",
    "    o3dPointCloud.scale(1 / np.max(o3dPointCloud.get_max_bound() - o3dPointCloud.get_min_bound()),\n",
    "          center=o3dPointCloud.get_center()) #fix the scale\n",
    "    #o3dPointCloud.colors = o3d.utility.Vector3dVector(np.random.uniform(0, 1, size=(N, 3)))\n",
    "    #voxel_grid = o3d.geometry.VoxelGrid.create_from_point_cloud(o3dPointCloud,\n",
    "                                                            #voxel_size=0.05)\n",
    "        \n",
    "    v_size = round(max(o3dPointCloud.get_max_bound()-o3dPointCloud.get_min_bound())*0.005,4) #find Side of each voxel\n",
    "    voxel_grid=o3d.geometry.VoxelGrid.create_from_point_cloud(o3dPointCloud,voxel_size=v_size)\n",
    "   # o3d.visualization.draw_geometries([voxel_grid]) #visualization\n",
    "    \n",
    "    voxels=voxel_grid.get_voxels()\n",
    "    vox_mesh = o3d.geometry.TriangleMesh()\n",
    "    #Generate Meshes from the voxels\n",
    "    for v in voxels:\n",
    "        cube = o3d.geometry.TriangleMesh.create_box(width=1, height=1,depth=1)\n",
    "        cube.paint_uniform_color(v.color)\n",
    "        cube.translate(v.grid_index, relative=False)\n",
    "        vox_mesh+=cube\n",
    "    \n",
    "    vox_mesh.translate([0.5,0.5,0.5], relative=True)\n",
    "    vox_mesh.scale(v_size, [0,0,0])\n",
    "    vox_mesh.translate(voxel_grid.origin, relative=True)\n",
    "    vox_mesh.merge_close_vertices(0.0000001) \n",
    "    o3d.visualization.draw_geometries([vox_mesh]) #visualization\n",
    "    o3d.io.write_triangle_mesh(\"Voxel.obj\", vox_mesh)\n",
    "    \n",
    "    #still need to export properly\n",
    "        \n",
    "    "
   ]
  },
  {
   "cell_type": "code",
   "execution_count": 19,
   "id": "13526a9a",
   "metadata": {},
   "outputs": [],
   "source": [
    "simplistic_mesh_creator_voxel(pointCloudMatrix)"
   ]
  },
  {
   "cell_type": "code",
   "execution_count": null,
   "id": "92d5fa15",
   "metadata": {},
   "outputs": [],
   "source": []
  },
  {
   "cell_type": "code",
   "execution_count": null,
   "id": "77399483",
   "metadata": {},
   "outputs": [],
   "source": []
  },
  {
   "cell_type": "code",
   "execution_count": null,
   "id": "c4100d4f",
   "metadata": {},
   "outputs": [],
   "source": []
  },
  {
   "cell_type": "code",
   "execution_count": 20,
   "id": "27d85177",
   "metadata": {},
   "outputs": [],
   "source": [
    "import matplotlib.pyplot as plt"
   ]
  },
  {
   "cell_type": "code",
   "execution_count": 21,
   "id": "39c4cbaa",
   "metadata": {},
   "outputs": [],
   "source": [
    "def simplistic_mesh_creator_poisson(pointCloudMatrix):\n",
    "    pcd = o3d.geometry.PointCloud()\n",
    "    pcd.points = o3d.utility.Vector3dVector(pointCloudMatrix)\n",
    "    pcd.scale(1 / np.max(pcd.get_max_bound() - pcd.get_min_bound()), center=pcd.get_center())\n",
    "    #o3d.visualization.draw_geometries([pcd])\n",
    "\n",
    "    pcd.normals = o3d.utility.Vector3dVector(np.zeros((1, 3))) #remove exiting Normals\n",
    "    #pcd.estimate_normals() #Estimate new normals base on pointcloud\n",
    "    radius = 0.1   # \n",
    "    max_nn = 30   # \n",
    "    pcd.estimate_normals(search_param=o3d.geometry.KDTreeSearchParamHybrid(radius, max_nn))\n",
    "    pcd.orient_normals_consistent_tangent_plane(100) #Takes a while but works!\n",
    "    #pcd.orient_normals_consistent_tangent_plane(100) #Crashes program\n",
    "    o3d.visualization.draw_geometries([pcd], point_show_normal=True)\n",
    "    with o3d.utility.VerbosityContextManager(\n",
    "        o3d.utility.VerbosityLevel.Debug) as cm:\n",
    "            mesh, densities = o3d.geometry.TriangleMesh.create_from_point_cloud_poisson(\n",
    "                pcd, depth=9)\n",
    "    o3d.visualization.draw_geometries([mesh])\n",
    "    print('visualize densities')\n",
    "    densities = np.asarray(densities)\n",
    "    density_colors = plt.get_cmap('plasma')(\n",
    "    (densities - densities.min()) / (densities.max() - densities.min()))\n",
    "    density_colors = density_colors[:, :3]\n",
    "    density_mesh = o3d.geometry.TriangleMesh()\n",
    "    \n",
    "    density_mesh.vertices = mesh.vertices\n",
    "    density_mesh.triangles = mesh.triangles\n",
    "    density_mesh.triangle_normals = mesh.triangle_normals\n",
    "    density_mesh.vertex_colors = o3d.utility.Vector3dVector(density_colors)\n",
    "    o3d.visualization.draw_geometries([density_mesh],mesh_show_back_face=True)\n",
    "    \n",
    "    o3d.io.write_triangle_mesh(\"density_mesh_possian_full.ply\", density_mesh)\n",
    "    \n",
    "    \n",
    "    print('remove low density vertices')\n",
    "\n",
    "    #o3d.visualization.draw_geometries([density_mesh],mesh_show_back_face=True)\n",
    "    vertices_to_remove = densities < np.quantile(densities, 0.05) #best Density For most cases\n",
    "    density_mesh.remove_vertices_by_mask(vertices_to_remove)\n",
    "    print(mesh)\n",
    "    o3d.visualization.draw_geometries([density_mesh],mesh_show_back_face=True)\n",
    "    o3d.io.write_triangle_mesh(\"density_mesh_possian_reduced.ply\", density_mesh)\n",
    "   "
   ]
  },
  {
   "cell_type": "code",
   "execution_count": 22,
   "id": "13071cc0",
   "metadata": {},
   "outputs": [
    {
     "name": "stdout",
     "output_type": "stream",
     "text": [
      "[Open3D DEBUG] Input Points / Samples: 1013120 / 91088\n",
      "[Open3D DEBUG] #   Got kernel density: 0.0999999 (s), 309.414 (MB) / 397.875 (MB) / 4229 (MB)\n",
      "[Open3D DEBUG] #     Got normal field: 0.259 (s), 354.25 (MB) / 397.875 (MB) / 4229 (MB)\n",
      "[Open3D DEBUG] Point weight / Estimated Area: 1.415130e-06 / 1.433697e+00\n",
      "[Open3D DEBUG] #       Finalized tree: 0.455 (s), 405.621 (MB) / 405.621 (MB) / 4229 (MB)\n",
      "[Open3D DEBUG] #  Set FEM constraints: 1.069 (s), 385.727 (MB) / 405.621 (MB) / 4229 (MB)\n",
      "[Open3D DEBUG] #Set point constraints: 0.208000 (s), 361.598 (MB) / 405.621 (MB) / 4229 (MB)\n",
      "[Open3D DEBUG] Leaf Nodes / Active Nodes / Ghost Nodes: 1196630 / 1305200 / 62377\n",
      "[Open3D DEBUG] Memory Usage: 361.602 MB\n",
      "[Open3D DEBUG] # Linear system solved: 1.579 (s), 442.203 (MB) / 442.203 (MB) / 4229 (MB)\n",
      "[Open3D DEBUG] Got average: 0.0320001 (s), 404.125 (MB) / 442.203 (MB) / 4229 (MB)\n",
      "[Open3D DEBUG] Iso-Value: 4.993298e-01 = 5.058810e+05 / 1.013120e+06\n",
      "[Open3D DEBUG] #          Total Solve:       7.0 (s),     442.2 (MB)\n",
      "visualize densities\n",
      "remove low density vertices\n",
      "TriangleMesh with 310005 points and 621060 triangles.\n"
     ]
    }
   ],
   "source": [
    "simplistic_mesh_creator_poisson(pointCloudMatrix)"
   ]
  },
  {
   "cell_type": "code",
   "execution_count": 11,
   "id": "acbcfd1c",
   "metadata": {},
   "outputs": [],
   "source": [
    "def generateConvexHull(pointCloudMatrix):\n",
    "\n",
    "    pcd = o3d.geometry.PointCloud()\n",
    "    pcd.points = o3d.utility.Vector3dVector(pointCloudMatrix)\n",
    "    pcd.scale(1 / np.max(pcd.get_max_bound() - pcd.get_min_bound()), center=pcd.get_center())\n",
    "\n",
    "    hull, _ = pcd.compute_convex_hull()\n",
    "    hull_ls = o3d.geometry.LineSet.create_from_triangle_mesh(hull)\n",
    "    hull_ls.paint_uniform_color((0, 0, 1))\n",
    "    o3d.visualization.draw_geometries([hull,hull_ls],mesh_show_back_face=True)\n",
    "    o3d.io.write_triangle_mesh(\"ConvexHull.ply\", hull)"
   ]
  },
  {
   "cell_type": "code",
   "execution_count": 12,
   "id": "bf36187e",
   "metadata": {},
   "outputs": [],
   "source": [
    "generateConvexHull(pointCloudMatrix)"
   ]
  },
  {
   "cell_type": "code",
   "execution_count": null,
   "id": "9ca72ea3",
   "metadata": {},
   "outputs": [],
   "source": []
  },
  {
   "cell_type": "code",
   "execution_count": 13,
   "id": "4575a268",
   "metadata": {},
   "outputs": [
    {
     "name": "stdout",
     "output_type": "stream",
     "text": [
      "Requirement already satisfied: pytorch3d in c:\\users\\zmw32\\anaconda3\\lib\\site-packages (0.6.1)\n",
      "Requirement already satisfied: iopath in c:\\users\\zmw32\\anaconda3\\lib\\site-packages (from pytorch3d) (0.1.9)\n",
      "Requirement already satisfied: fvcore in c:\\users\\zmw32\\anaconda3\\lib\\site-packages (from pytorch3d) (0.1.5.post20220212)\n",
      "Requirement already satisfied: numpy in c:\\users\\zmw32\\anaconda3\\lib\\site-packages (from fvcore->pytorch3d) (1.20.1)\n",
      "Requirement already satisfied: yacs>=0.1.6 in c:\\users\\zmw32\\anaconda3\\lib\\site-packages (from fvcore->pytorch3d) (0.1.8)\n",
      "Requirement already satisfied: tqdm in c:\\users\\zmw32\\anaconda3\\lib\\site-packages (from fvcore->pytorch3d) (4.59.0)\n",
      "Requirement already satisfied: termcolor>=1.1 in c:\\users\\zmw32\\anaconda3\\lib\\site-packages (from fvcore->pytorch3d) (1.1.0)\n",
      "Requirement already satisfied: pyyaml>=5.1 in c:\\users\\zmw32\\anaconda3\\lib\\site-packages (from fvcore->pytorch3d) (5.4.1)\n",
      "Requirement already satisfied: tabulate in c:\\users\\zmw32\\anaconda3\\lib\\site-packages (from fvcore->pytorch3d) (0.8.9)\n",
      "Requirement already satisfied: Pillow in c:\\users\\zmw32\\anaconda3\\lib\\site-packages (from fvcore->pytorch3d) (8.2.0)\n",
      "Requirement already satisfied: portalocker in c:\\users\\zmw32\\anaconda3\\lib\\site-packages (from iopath->pytorch3d) (2.3.2)\n",
      "Requirement already satisfied: pywin32>=226 in c:\\users\\zmw32\\anaconda3\\lib\\site-packages (from portalocker->iopath->pytorch3d) (227)\n"
     ]
    }
   ],
   "source": [
    "import os\n",
    "import sys\n",
    "import torch\n",
    "!pip install pytorch3d\n",
    "from pytorch3d.io import load_obj, save_obj\n",
    "from pytorch3d.structures import Meshes\n",
    "from pytorch3d.utils import ico_sphere\n",
    "from pytorch3d.ops import sample_points_from_meshes,cubify\n",
    "from pytorch3d.loss import (\n",
    "    chamfer_distance, \n",
    "    mesh_edge_loss, \n",
    "    mesh_laplacian_smoothing, \n",
    "    mesh_normal_consistency,\n",
    "    point_mesh_face_distance\n",
    ")\n",
    "import numpy as np\n",
    "import matplotlib\n",
    "from mpl_toolkits.mplot3d import Axes3D\n",
    "from tqdm.notebook import tqdm"
   ]
  },
  {
   "cell_type": "code",
   "execution_count": 14,
   "id": "ac0c1932",
   "metadata": {},
   "outputs": [
    {
     "name": "stdout",
     "output_type": "stream",
     "text": [
      "WARNING: CPU only, this will be slow!\n"
     ]
    }
   ],
   "source": [
    "# Set the device\n",
    "if torch.cuda.is_available():\n",
    "    device = torch.device(\"cuda:0\")\n",
    "else:\n",
    "    device = torch.device(\"cpu\")\n",
    "    print(\"WARNING: CPU only, this will be slow!\")"
   ]
  },
  {
   "cell_type": "code",
   "execution_count": 15,
   "id": "0a7f155f",
   "metadata": {},
   "outputs": [
    {
     "name": "stdout",
     "output_type": "stream",
     "text": [
      "tensor(32.9979)\n"
     ]
    }
   ],
   "source": [
    "\n",
    "src_obj = os.path.join('voxel.obj')\n",
    "verts, faces, aux = load_obj(src_obj)\n",
    "faces_idx = faces.verts_idx.to(device)\n",
    "verts = verts.to(device)\n",
    "src_mesh = Meshes(verts=[verts], faces=[faces_idx])\n",
    "\n",
    "\n",
    "trg_mesh = torch.tensor([pointCloudMatrix.tolist()])\n",
    "target_point_count = trg_mesh.size(dim=1)\n",
    "\n",
    "sample_trg = trg_mesh\n",
    "sample_src = sample_points_from_meshes(src_mesh, 5000)\n",
    "\n",
    "\n",
    "loss_chamfer, _ = chamfer_distance(sample_trg, sample_src)\n",
    "\n",
    "print(loss_chamfer);"
   ]
  },
  {
   "cell_type": "code",
   "execution_count": null,
   "id": "397e91f1",
   "metadata": {},
   "outputs": [],
   "source": []
  }
 ],
 "metadata": {
  "kernelspec": {
   "display_name": "Python 3 (Spyder)",
   "language": "python3",
   "name": "python3"
  },
  "language_info": {
   "codemirror_mode": {
    "name": "ipython",
    "version": 3
   },
   "file_extension": ".py",
   "mimetype": "text/x-python",
   "name": "python",
   "nbconvert_exporter": "python",
   "pygments_lexer": "ipython3",
   "version": "3.8.8"
  }
 },
 "nbformat": 4,
 "nbformat_minor": 5
}
