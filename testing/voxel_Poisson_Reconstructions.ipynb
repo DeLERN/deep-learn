{
 "cells": [
  {
   "cell_type": "code",
   "execution_count": 1,
   "id": "dcacd786",
   "metadata": {},
   "outputs": [],
   "source": [
    "#!pip install open3d\n",
    "#!conda install -c open3d-admin open3d"
   ]
  },
  {
   "cell_type": "code",
   "execution_count": 2,
   "id": "4d672c23",
   "metadata": {},
   "outputs": [],
   "source": [
    "#Code By Zachary Waynor\n",
    "\n"
   ]
  },
  {
   "cell_type": "code",
   "execution_count": 1,
   "id": "1c335351",
   "metadata": {},
   "outputs": [],
   "source": [
    "import open3d as o3d\n",
    "import numpy as np\n",
    "import copy"
   ]
  },
  {
   "cell_type": "code",
   "execution_count": 2,
   "id": "65f378e1",
   "metadata": {},
   "outputs": [],
   "source": [
    "#pointCloudMatrix = [[0.0, 0, 0],[0, 0, 1],[0, 1, 0],[0, 1, 1],[1, 0, 0],[1, 0, 1],[1, 1, 0],[1, 1, 1]];\n",
    "\n",
    "#pointCloudMatrix = np.array([[0,0,0]])\n",
    "#for x in range(51):\n",
    "   # for y in range(51):\n",
    "       # for z in range(51):\n",
    "          #  if (abs(x/50) == 1 or abs(y/50) == 1 or abs(z/50)==1 or abs(x) == 0 or abs(y) == 0 or abs(z)==0):\n",
    "              #  pointCloudMatrix = np.concatenate((pointCloudMatrix,[[x/3,y/3,z/3]]),axis=0)\n",
    "#pointCloudMatrix = np.array(np.loadtxt('np_array.txt'))                \n",
    "pointCloudMatrix = np.array(np.loadtxt('vertices-hdroomfixed-64mation.txt'))            \n"
   ]
  },
  {
   "cell_type": "code",
   "execution_count": 3,
   "id": "469dca2e",
   "metadata": {},
   "outputs": [
    {
     "data": {
      "text/plain": [
       "(18991, 6)"
      ]
     },
     "execution_count": 3,
     "metadata": {},
     "output_type": "execute_result"
    }
   ],
   "source": [
    "pointCloudMatrix.shape"
   ]
  },
  {
   "cell_type": "code",
   "execution_count": 4,
   "id": "88ff67c2",
   "metadata": {},
   "outputs": [
    {
     "data": {
      "text/plain": [
       "(18991, 3)"
      ]
     },
     "execution_count": 4,
     "metadata": {},
     "output_type": "execute_result"
    }
   ],
   "source": [
    "color = pointCloudMatrix[:,3:6]\n",
    "pointCloudMatrix= pointCloudMatrix[:,0:3]\n",
    "\n",
    "pointCloudMatrix.shape\n",
    "\n"
   ]
  },
  {
   "cell_type": "code",
   "execution_count": null,
   "id": "5ca1b80d",
   "metadata": {},
   "outputs": [],
   "source": [
    "\n"
   ]
  },
  {
   "cell_type": "code",
   "execution_count": 5,
   "id": "1d403f30",
   "metadata": {},
   "outputs": [],
   "source": [
    "def simplistic_mesh_creator_voxel(pointCloudMatrix,suppressOutputs=True):\n",
    "     #takes a numpy matrix of size [x,3] of points \n",
    "     #and uses open3d inorder to create a basic voxel representation of the points\n",
    "    \n",
    "    o3dPointCloud = o3d.geometry.PointCloud() #Create pointcloud object\n",
    "    o3dPointCloud.points = o3d.utility.Vector3dVector(pointCloudMatrix) #Populate with points from numpy matrix\n",
    "    o3dPointCloud.scale(1 / np.max(o3dPointCloud.get_max_bound() - o3dPointCloud.get_min_bound()),\n",
    "          center=o3dPointCloud.get_center()) #fix the scale\n",
    "    #o3dPointCloud.colors = o3d.utility.Vector3dVector(np.random.uniform(0, 1, size=(N, 3)))\n",
    "    #voxel_grid = o3d.geometry.VoxelGrid.create_from_point_cloud(o3dPointCloud,\n",
    "                                                            #voxel_size=0.05)\n",
    "    \n",
    "    v_size = round(max(o3dPointCloud.get_max_bound()-o3dPointCloud.get_min_bound())*0.005,4) #find Side of each voxel\n",
    "    \n",
    "    voxel_grid=o3d.geometry.VoxelGrid.create_from_point_cloud(o3dPointCloud,voxel_size=v_size)\n",
    "    # o3d.visualization.draw_geometries([voxel_grid]) #visualization\n",
    "    \n",
    "    voxels=voxel_grid.get_voxels()\n",
    "    vox_mesh = o3d.geometry.TriangleMesh()\n",
    "    #Generate Meshes from the voxels\n",
    "    for v in voxels:\n",
    "        cube = o3d.geometry.TriangleMesh.create_box(width=1, height=1,depth=1)\n",
    "        cube.paint_uniform_color(v.color)\n",
    "        cube.translate(v.grid_index, relative=False)\n",
    "        vox_mesh+=cube\n",
    "    \n",
    "    vox_mesh.translate([0.5,0.5,0.5], relative=True)\n",
    "    vox_mesh.scale(v_size, [0,0,0])\n",
    "    vox_mesh.translate(voxel_grid.origin, relative=True)\n",
    "    vox_mesh.merge_close_vertices(0.0000001) \n",
    "    if(not suppressOutputs):\n",
    "        o3d.visualization.draw_geometries([vox_mesh]) #visualization\n",
    "    o3d.io.write_triangle_mesh(\"Voxel.ply\", vox_mesh)\n",
    "    return vox_mesh;\n",
    "\n",
    "    "
   ]
  },
  {
   "cell_type": "code",
   "execution_count": 6,
   "id": "8dcb8b18",
   "metadata": {},
   "outputs": [],
   "source": [
    "Out_Vox = simplistic_mesh_creator_voxel(pointCloudMatrix,False)"
   ]
  },
  {
   "cell_type": "code",
   "execution_count": null,
   "id": "a2370ec5",
   "metadata": {},
   "outputs": [],
   "source": []
  },
  {
   "cell_type": "code",
   "execution_count": null,
   "id": "8f69bd00",
   "metadata": {},
   "outputs": [],
   "source": []
  },
  {
   "cell_type": "code",
   "execution_count": null,
   "id": "8fe652e9",
   "metadata": {},
   "outputs": [],
   "source": []
  },
  {
   "cell_type": "code",
   "execution_count": 7,
   "id": "cd8a1091",
   "metadata": {},
   "outputs": [],
   "source": [
    "import matplotlib.pyplot as plt"
   ]
  },
  {
   "cell_type": "code",
   "execution_count": 8,
   "id": "c1afe3a9",
   "metadata": {},
   "outputs": [],
   "source": [
    "def simplistic_mesh_creator_poisson(pointCloudMatrix,suppressOutputs=True):\n",
    "    pcd = o3d.geometry.PointCloud()\n",
    "    pcd.points = o3d.utility.Vector3dVector(pointCloudMatrix)\n",
    "    pcd.scale(1 / np.max(pcd.get_max_bound() - pcd.get_min_bound()), center=pcd.get_center())\n",
    "    #o3d.visualization.draw_geometries([pcd])\n",
    "\n",
    "    pcd.normals = o3d.utility.Vector3dVector(np.zeros((1, 3))) #remove exiting Normals\n",
    "    #pcd.estimate_normals() #Estimate new normals base on pointcloud\n",
    "    radius = 0.1   # \n",
    "    max_nn = 30   # \n",
    "    pcd.estimate_normals(search_param=o3d.geometry.KDTreeSearchParamHybrid(radius, max_nn))\n",
    "    pcd.orient_normals_consistent_tangent_plane(100) #Takes a while but works!\n",
    "    \n",
    "    if(not suppressOutputs):\n",
    "        o3d.visualization.draw_geometries([pcd], point_show_normal=True)\n",
    "    with o3d.utility.VerbosityContextManager(\n",
    "        o3d.utility.VerbosityLevel.Debug) as cm:\n",
    "            mesh, densities = o3d.geometry.TriangleMesh.create_from_point_cloud_poisson(\n",
    "                pcd, depth=9)\n",
    "    if(not suppressOutputs):        \n",
    "        o3d.visualization.draw_geometries([mesh])\n",
    "        print('visualize densities')\n",
    "    densities = np.asarray(densities)\n",
    "    density_colors = plt.get_cmap('plasma')(\n",
    "    (densities - densities.min()) / (densities.max() - densities.min()))\n",
    "    density_colors = density_colors[:, :3]\n",
    "    density_mesh = o3d.geometry.TriangleMesh()\n",
    "    \n",
    "    density_mesh.vertices = mesh.vertices\n",
    "    density_mesh.triangles = mesh.triangles\n",
    "    density_mesh.triangle_normals = mesh.triangle_normals\n",
    "    density_mesh.vertex_colors = o3d.utility.Vector3dVector(density_colors)\n",
    "    if(not suppressOutputs):\n",
    "        o3d.visualization.draw_geometries([density_mesh],mesh_show_back_face=True)\n",
    "    \n",
    "    rough_Density_Mesh = copy.deepcopy(density_mesh);\n",
    "    \n",
    "    o3d.io.write_triangle_mesh(\"density_mesh_possian_full.ply\", density_mesh)\n",
    "    \n",
    "    \n",
    "    print('remove low density vertices')\n",
    "\n",
    "    #o3d.visualization.draw_geometries([density_mesh],mesh_show_back_face=True)\n",
    "    vertices_to_remove = densities < np.quantile(densities, 0.05) #best Density For most cases\n",
    "    density_mesh.remove_vertices_by_mask(vertices_to_remove)\n",
    "    print(mesh)\n",
    "    if(not suppressOutputs):\n",
    "        o3d.visualization.draw_geometries([density_mesh],mesh_show_back_face=True)\n",
    "    o3d.io.write_triangle_mesh(\"density_mesh_possian_reduced.ply\", density_mesh)\n",
    "    return pcd, mesh, rough_Density_Mesh, density_mesh;\n",
    "   "
   ]
  },
  {
   "cell_type": "code",
   "execution_count": 9,
   "id": "b391ae28",
   "metadata": {},
   "outputs": [
    {
     "name": "stdout",
     "output_type": "stream",
     "text": [
      "[Open3D DEBUG] Input Points / Samples: 18991 / 18899\n",
      "[Open3D DEBUG] #   Got kernel density: 0.161 (s), 314.613 (MB) / 314.613 (MB) / 315 (MB)\n",
      "[Open3D DEBUG] #     Got normal field: 0.0770001 (s), 321.637 (MB) / 321.637 (MB) / 321 (MB)\n",
      "[Open3D DEBUG] Point weight / Estimated Area: 2.082098e-04 / 3.954112e+00\n",
      "[Open3D DEBUG] #       Finalized tree: 0.197 (s), 198.832 (MB) / 321.637 (MB) / 324 (MB)\n",
      "[Open3D DEBUG] #  Set FEM constraints: 0.291 (s), 193.355 (MB) / 321.637 (MB) / 324 (MB)\n",
      "[Open3D DEBUG] #Set point constraints: 0.0569999 (s), 190.637 (MB) / 321.637 (MB) / 324 (MB)\n",
      "[Open3D DEBUG] Leaf Nodes / Active Nodes / Ghost Nodes: 546603 / 239416 / 385273\n",
      "[Open3D DEBUG] Memory Usage: 190.637 MB\n",
      "[Open3D DEBUG] # Linear system solved: 0.643 (s), 205.984 (MB) / 321.637 (MB) / 324 (MB)\n",
      "[Open3D DEBUG] Got average: 0.0190001 (s), 190.883 (MB) / 321.637 (MB) / 324 (MB)\n",
      "[Open3D DEBUG] Iso-Value: 5.106811e-01 = 9.698345e+03 / 1.899100e+04\n",
      "[Open3D DEBUG] #          Total Solve:       2.7 (s),     321.6 (MB)\n",
      "visualize densities\n",
      "remove low density vertices\n",
      "TriangleMesh with 53126 points and 105988 triangles.\n"
     ]
    }
   ],
   "source": [
    "pointCloud_EstimatedNormals,Out_PosRough,Out_PosRColored,Out_Pos=simplistic_mesh_creator_poisson(pointCloudMatrix,False)"
   ]
  },
  {
   "cell_type": "code",
   "execution_count": 10,
   "id": "677bb757",
   "metadata": {},
   "outputs": [],
   "source": [
    "def generateBallPivot(pointCloud_With_Estimated_Normals,suppressOutputs=True):\n",
    "    radii = [0.005, 0.01, 0.02, 0.04,0.08]\n",
    "    rec_mesh = o3d.geometry.TriangleMesh.create_from_point_cloud_ball_pivoting(\n",
    "        pointCloud_With_Estimated_Normals, o3d.utility.DoubleVector(radii))\n",
    "    if(not suppressOutputs):\n",
    "        o3d.visualization.draw_geometries([pointCloud_With_Estimated_Normals, rec_mesh])\n",
    "    o3d.io.write_triangle_mesh(\"BallPivot.ply\", rec_mesh)\n",
    "    return rec_mesh"
   ]
  },
  {
   "cell_type": "code",
   "execution_count": 11,
   "id": "a6d910c9",
   "metadata": {},
   "outputs": [],
   "source": [
    "Out_BallPivot = generateBallPivot(pointCloud_EstimatedNormals,False);"
   ]
  },
  {
   "cell_type": "code",
   "execution_count": 12,
   "id": "f2dec354",
   "metadata": {},
   "outputs": [],
   "source": [
    "def generateConvexHull(pointCloudMatrix,suppressOutputs=True):\n",
    "\n",
    "    pcd = o3d.geometry.PointCloud()\n",
    "    pcd.points = o3d.utility.Vector3dVector(pointCloudMatrix)\n",
    "    pcd.scale(1 / np.max(pcd.get_max_bound() - pcd.get_min_bound()), center=pcd.get_center())\n",
    "\n",
    "    hull, _ = pcd.compute_convex_hull()\n",
    "    hull_ls = o3d.geometry.LineSet.create_from_triangle_mesh(hull)\n",
    "    hull_ls.paint_uniform_color((0, 0, 1))\n",
    "    if(not suppressOutputs):\n",
    "        o3d.visualization.draw_geometries([hull,hull_ls],mesh_show_back_face=True)\n",
    "    o3d.io.write_triangle_mesh(\"ConvexHull.ply\", hull)\n",
    "    return hull;"
   ]
  },
  {
   "cell_type": "code",
   "execution_count": 13,
   "id": "d936740d",
   "metadata": {},
   "outputs": [],
   "source": [
    "Out_Hull = generateConvexHull(pointCloudMatrix,False)"
   ]
  },
  {
   "cell_type": "code",
   "execution_count": null,
   "id": "5bcf4505",
   "metadata": {},
   "outputs": [],
   "source": []
  },
  {
   "cell_type": "code",
   "execution_count": 14,
   "id": "5b999b1d",
   "metadata": {},
   "outputs": [
    {
     "name": "stdout",
     "output_type": "stream",
     "text": [
      "Requirement already satisfied: pytorch3d in c:\\users\\zmw32\\anaconda3\\lib\\site-packages (0.6.1)\n",
      "Requirement already satisfied: iopath in c:\\users\\zmw32\\anaconda3\\lib\\site-packages (from pytorch3d) (0.1.9)\n",
      "Requirement already satisfied: fvcore in c:\\users\\zmw32\\anaconda3\\lib\\site-packages (from pytorch3d) (0.1.5.post20220212)\n",
      "Requirement already satisfied: termcolor>=1.1 in c:\\users\\zmw32\\anaconda3\\lib\\site-packages (from fvcore->pytorch3d) (1.1.0)\n",
      "Requirement already satisfied: tqdm in c:\\users\\zmw32\\anaconda3\\lib\\site-packages (from fvcore->pytorch3d) (4.59.0)\n",
      "Requirement already satisfied: Pillow in c:\\users\\zmw32\\anaconda3\\lib\\site-packages (from fvcore->pytorch3d) (8.2.0)\n",
      "Requirement already satisfied: pyyaml>=5.1 in c:\\users\\zmw32\\anaconda3\\lib\\site-packages (from fvcore->pytorch3d) (5.4.1)\n",
      "Requirement already satisfied: numpy in c:\\users\\zmw32\\anaconda3\\lib\\site-packages (from fvcore->pytorch3d) (1.22.3)\n",
      "Requirement already satisfied: tabulate in c:\\users\\zmw32\\anaconda3\\lib\\site-packages (from fvcore->pytorch3d) (0.8.9)\n",
      "Requirement already satisfied: yacs>=0.1.6 in c:\\users\\zmw32\\anaconda3\\lib\\site-packages (from fvcore->pytorch3d) (0.1.8)\n",
      "Requirement already satisfied: portalocker in c:\\users\\zmw32\\anaconda3\\lib\\site-packages (from iopath->pytorch3d) (2.3.2)\n",
      "Requirement already satisfied: pywin32>=226 in c:\\users\\zmw32\\anaconda3\\lib\\site-packages (from portalocker->iopath->pytorch3d) (227)\n"
     ]
    }
   ],
   "source": [
    "import os\n",
    "import sys\n",
    "import torch\n",
    "!pip install pytorch3d\n",
    "from pytorch3d.io import load_obj, save_obj\n",
    "from pytorch3d.structures import Meshes\n",
    "from pytorch3d.utils import ico_sphere\n",
    "from pytorch3d.ops import sample_points_from_meshes,cubify\n",
    "from pytorch3d.loss import (\n",
    "    chamfer_distance, \n",
    "    mesh_edge_loss, \n",
    "    mesh_laplacian_smoothing, \n",
    "    mesh_normal_consistency,\n",
    "    point_mesh_face_distance\n",
    ")\n",
    "import numpy as np\n",
    "import matplotlib\n",
    "from mpl_toolkits.mplot3d import Axes3D\n",
    "from tqdm.notebook import tqdm"
   ]
  },
  {
   "cell_type": "code",
   "execution_count": 15,
   "id": "c6072e6c",
   "metadata": {},
   "outputs": [
    {
     "name": "stdout",
     "output_type": "stream",
     "text": [
      "WARNING: CPU only, this will be slow!\n"
     ]
    }
   ],
   "source": [
    "# Set the device\n",
    "if torch.cuda.is_available():\n",
    "    device = torch.device(\"cuda:0\")\n",
    "else:\n",
    "    device = torch.device(\"cpu\")\n",
    "    print(\"WARNING: CPU only, this will be slow!\")"
   ]
  },
  {
   "cell_type": "code",
   "execution_count": 16,
   "id": "7e48f355",
   "metadata": {},
   "outputs": [
    {
     "name": "stdout",
     "output_type": "stream",
     "text": [
      "tensor(2626.2751)\n"
     ]
    }
   ],
   "source": [
    "\n",
    "src_obj = os.path.join('voxel.obj')\n",
    "verts, faces, aux = load_obj(src_obj)\n",
    "faces_idx = faces.verts_idx.to(device)\n",
    "verts = verts.to(device)\n",
    "src_mesh = Meshes(verts=[verts], faces=[faces_idx])\n",
    "\n",
    "\n",
    "trg_mesh = torch.tensor([pointCloudMatrix.tolist()])\n",
    "target_point_count = trg_mesh.size(dim=1)\n",
    "\n",
    "sample_trg = trg_mesh\n",
    "sample_src = sample_points_from_meshes(src_mesh, 5000)\n",
    "\n",
    "\n",
    "loss_chamfer, _ = chamfer_distance(sample_trg, sample_src)\n",
    "\n",
    "print(loss_chamfer);"
   ]
  },
  {
   "cell_type": "code",
   "execution_count": 17,
   "id": "2359cf7f",
   "metadata": {},
   "outputs": [
    {
     "data": {
      "text/plain": [
       "TriangleMesh with 50469 points and 99719 triangles."
      ]
     },
     "execution_count": 17,
     "metadata": {},
     "output_type": "execute_result"
    }
   ],
   "source": [
    "\n",
    "Out_Hull_Translated = Out_Hull\n",
    "Out_Hull_Translated.translate([1.5,0,0])\n",
    "Out_BallPivot.translate([1.5*2,0,0])\n",
    "Out_PosRough.translate([1.5*3,0,0])\n",
    "Out_PosRColored.translate([1.5*4,0,0])\n",
    "Out_Pos.translate([1.5*5,0,0])\n",
    "\n",
    "\n",
    "o3d.visualization.draw_geometries([Out_Vox, Out_Hull_Translated,Out_BallPivot,Out_PosRough,Out_PosRColored,Out_Pos],mesh_show_back_face=True)\n",
    "Out_Hull_Translated.translate([-1.5,0,0])\n",
    "Out_BallPivot.translate([1.5*-2,0,0])\n",
    "Out_PosRough.translate([-1.5*3,0,0])\n",
    "Out_PosRColored.translate([-1.5*4,0,0])\n",
    "Out_Pos.translate([-1.5*5,0,0])\n",
    "\n"
   ]
  },
  {
   "cell_type": "code",
   "execution_count": 18,
   "id": "ce4cc8a8",
   "metadata": {},
   "outputs": [],
   "source": [
    "#indiviudaul Display For Demo: Vox\n",
    "o3d.visualization.draw_geometries([Out_Vox],mesh_show_back_face=True)"
   ]
  },
  {
   "cell_type": "code",
   "execution_count": 19,
   "id": "81fc3101",
   "metadata": {},
   "outputs": [],
   "source": [
    "#indiviudaul Display For Demo: Hull\n",
    "o3d.visualization.draw_geometries([Out_Hull],mesh_show_back_face=True)"
   ]
  },
  {
   "cell_type": "code",
   "execution_count": 20,
   "id": "ccc0c3dc",
   "metadata": {},
   "outputs": [],
   "source": [
    "#indiviudaul Display For Demo: Estimated Normals:\n",
    "o3d.visualization.draw_geometries([pointCloud_EstimatedNormals], point_show_normal=True)"
   ]
  },
  {
   "cell_type": "code",
   "execution_count": 21,
   "id": "35d73eb9",
   "metadata": {},
   "outputs": [],
   "source": [
    "#indiviudaul Display For Demo: BallPivot\n",
    "o3d.visualization.draw_geometries([Out_BallPivot],mesh_show_back_face=True)"
   ]
  },
  {
   "cell_type": "code",
   "execution_count": 22,
   "id": "f004a662",
   "metadata": {},
   "outputs": [],
   "source": [
    "#indiviudaul Display For Demo: Poisson\n",
    "o3d.visualization.draw_geometries([Out_PosRColored],mesh_show_back_face=True)"
   ]
  },
  {
   "cell_type": "code",
   "execution_count": null,
   "id": "e230c75b",
   "metadata": {},
   "outputs": [],
   "source": []
  },
  {
   "cell_type": "code",
   "execution_count": 23,
   "id": "a7fad1bd",
   "metadata": {},
   "outputs": [],
   "source": [
    "#indiviudaul Display For Demo: Poisson Removed Low Densities\n",
    "o3d.visualization.draw_geometries([Out_Pos],mesh_show_back_face=True)"
   ]
  },
  {
   "cell_type": "code",
   "execution_count": null,
   "id": "a00cfc3f",
   "metadata": {},
   "outputs": [],
   "source": []
  },
  {
   "cell_type": "code",
   "execution_count": 24,
   "id": "513204c9",
   "metadata": {},
   "outputs": [],
   "source": [
    "def MultipleObjectReconstruction(dataset_name,suppressOutputs=True,suppressOutputs2=True):\n",
    "    FullListOfOutputs = []\n",
    "    FullListChamferLoss = []\n",
    "\n",
    "    i=0\n",
    "    for dataset_selector in dataset_name:\n",
    "        data = np.loadtxt(f\"../utils/dataset/{dataset_selector}.txt\")\n",
    "\n",
    "        #DECIMATION_CONSTANT = 64\n",
    "        DECIMATION_CONSTANT = 1\n",
    "\n",
    "        decimated_vert = []\n",
    "\n",
    "        for i in range(len(data)):\n",
    "            if(i % DECIMATION_CONSTANT == 0):\n",
    "                decimated_vert.append(data[i])\n",
    "        print(len(decimated_vert))\n",
    "        pointCloudMatrix = np.array(np.asarray(decimated_vert)  )    \n",
    "        pointCloudMatrix.shape\n",
    "        color = pointCloudMatrix[:,3:6]\n",
    "        pointCloudMatrix= pointCloudMatrix[:,0:3]\n",
    "        pointCloudMatrix.shape\n",
    "        Out_Vox = simplistic_mesh_creator_voxel(pointCloudMatrix)\n",
    "        pointCloud_EstimatedNormals1,Out_PosRough,Out_PosRColored,Out_Pos=simplistic_mesh_creator_poisson(pointCloudMatrix)\n",
    "        Out_BallPivot = generateBallPivot(pointCloud_EstimatedNormals1);\n",
    "        Out_Hull = generateConvexHull(pointCloudMatrix)\n",
    "        o3dPointCloud = o3d.geometry.PointCloud() #Create pointcloud object\n",
    "        o3dPointCloud.points = o3d.utility.Vector3dVector(pointCloudMatrix) #Populate with points from numpy matrix\n",
    "        o3dPointCloud.scale(1 / np.max(o3dPointCloud.get_max_bound() - o3dPointCloud.get_min_bound()),\n",
    "              center=o3dPointCloud.get_center())\n",
    "        \n",
    "        if(not suppressOutputs):\n",
    "            o3dPointCloud.translate([-1.5,0,0])\n",
    "            Out_Hull.translate([1.5,0,0])\n",
    "            Out_BallPivot.translate([1.5*2,0,0])\n",
    "            Out_PosRough.translate([1.5*3,0,0])\n",
    "            Out_PosRColored.translate([1.5*4,0,0])\n",
    "            Out_Pos.translate([1.5*5,0,0])\n",
    "            o3d.visualization.draw_geometries([Out_Vox, \n",
    "                                               Out_Hull,\n",
    "                                               Out_BallPivot,\n",
    "                                               Out_PosRough,\n",
    "                                               Out_PosRColored,\n",
    "                                               Out_Pos,\n",
    "                                               o3dPointCloud\n",
    "                                              ], mesh_show_back_face=True)\n",
    "            o3dPointCloud.translate([1.5,0,0])\n",
    "            Out_Hull.translate([-1.5,0,0])\n",
    "            Out_BallPivot.translate([1.5*-2,0,0])\n",
    "            Out_PosRough.translate([-1.5*3,0,0])\n",
    "            Out_PosRColored.translate([-1.5*4,0,0])\n",
    "            Out_Pos.translate([-1.5*5,0,0])\n",
    "            \n",
    "            \n",
    "\n",
    "        \n",
    "       \n",
    "        FullListOfOutputs.insert(0+(i*6), o3dPointCloud)\n",
    "        FullListOfOutputs.insert(1+(i*6), Out_Hull)\n",
    "        FullListOfOutputs.insert(2+(i*6), Out_BallPivot)\n",
    "        FullListOfOutputs.insert(3+(i*6), Out_PosRough)\n",
    "        FullListOfOutputs.insert(4+(i*6), Out_PosRColored)\n",
    "        FullListOfOutputs.insert(5+(i*6), Out_Pos)\n",
    "        i = i+1\n",
    "        \n",
    "    if(not suppressOutputs2):\n",
    "        \n",
    "        for x in range(len(dataset_name)):\n",
    "            for y in range(6):\n",
    "                FullListOfOutputs[y+(x*6)].translate([1.5*y,0,-1.5*x])\n",
    "\n",
    "\n",
    "\n",
    "            o3d.visualization.draw_geometries(FullListOfOutputs, mesh_show_back_face=True)   \n",
    "\n",
    "\n",
    "        for x in range(len(dataset_name)):\n",
    "               for y in range(6):\n",
    "                    FullListOfOutputs[y+(x*6)].translate([-1.5*y,0,+1.5*x])\n",
    "\n",
    "    \n",
    "    return FullListOfOutputs\n"
   ]
  },
  {
   "cell_type": "code",
   "execution_count": 25,
   "id": "186790c3",
   "metadata": {},
   "outputs": [
    {
     "name": "stdout",
     "output_type": "stream",
     "text": [
      "29552\n",
      "[Open3D DEBUG] Input Points / Samples: 29552 / 25971\n",
      "[Open3D DEBUG] #   Got kernel density: 0.139 (s), 322.422 (MB) / 322.422 (MB) / 575 (MB)\n",
      "[Open3D DEBUG] #     Got normal field: 0.164 (s), 339.867 (MB) / 339.867 (MB) / 575 (MB)\n",
      "[Open3D DEBUG] Point weight / Estimated Area: 5.513932e-05 / 1.629477e+00\n",
      "[Open3D DEBUG] #       Finalized tree: 0.265 (s), 361.629 (MB) / 361.629 (MB) / 575 (MB)\n",
      "[Open3D DEBUG] #  Set FEM constraints: 0.32 (s), 352.434 (MB) / 361.629 (MB) / 575 (MB)\n",
      "[Open3D DEBUG] #Set point constraints: 0.0640001 (s), 343.727 (MB) / 361.629 (MB) / 575 (MB)\n",
      "[Open3D DEBUG] Leaf Nodes / Active Nodes / Ghost Nodes: 728379 / 627120 / 205313\n",
      "[Open3D DEBUG] Memory Usage: 343.727 MB\n",
      "[Open3D DEBUG] # Linear system solved: 0.627 (s), 368.246 (MB) / 368.246 (MB) / 575 (MB)\n",
      "[Open3D DEBUG] Got average: 0.017 (s), 343.195 (MB) / 368.246 (MB) / 575 (MB)\n",
      "[Open3D DEBUG] Iso-Value: 4.980209e-01 = 1.471751e+04 / 2.955200e+04\n",
      "[Open3D DEBUG] #          Total Solve:       2.9 (s),     401.8 (MB)\n",
      "remove low density vertices\n",
      "TriangleMesh with 112726 points and 225227 triangles.\n",
      "13652\n",
      "[Open3D DEBUG] Input Points / Samples: 13652 / 13299\n",
      "[Open3D DEBUG] #   Got kernel density: 0.0880001 (s), 340.273 (MB) / 401.762 (MB) / 575 (MB)\n",
      "[Open3D DEBUG] #     Got normal field: 0.0679998 (s), 346.73 (MB) / 401.762 (MB) / 575 (MB)\n",
      "[Open3D DEBUG] Point weight / Estimated Area: 6.967506e-05 / 9.512039e-01\n",
      "[Open3D DEBUG] #       Finalized tree: 0.161 (s), 359.703 (MB) / 401.762 (MB) / 575 (MB)\n",
      "[Open3D DEBUG] #  Set FEM constraints: 0.306000 (s), 355.879 (MB) / 401.762 (MB) / 575 (MB)\n",
      "[Open3D DEBUG] #Set point constraints: 0.043 (s), 355.004 (MB) / 401.762 (MB) / 575 (MB)\n",
      "[Open3D DEBUG] Leaf Nodes / Active Nodes / Ghost Nodes: 360571 / 289024 / 123057\n",
      "[Open3D DEBUG] Memory Usage: 355.004 MB\n",
      "[Open3D DEBUG] # Linear system solved: 0.647 (s), 359.746 (MB) / 401.762 (MB) / 575 (MB)\n",
      "[Open3D DEBUG] Got average: 0.00999999 (s), 357.559 (MB) / 401.762 (MB) / 575 (MB)\n",
      "[Open3D DEBUG] Iso-Value: 4.981940e-01 = 6.801345e+03 / 1.365200e+04\n",
      "[Open3D DEBUG] #          Total Solve:       2.2 (s),     401.8 (MB)\n",
      "remove low density vertices\n",
      "TriangleMesh with 49054 points and 97778 triangles.\n",
      "37345\n",
      "[Open3D DEBUG] Input Points / Samples: 37345 / 36129\n",
      "[Open3D DEBUG] #   Got kernel density: 0.154 (s), 379.203 (MB) / 401.762 (MB) / 575 (MB)\n",
      "[Open3D DEBUG] #     Got normal field: 0.184 (s), 395.695 (MB) / 401.762 (MB) / 575 (MB)\n",
      "[Open3D DEBUG] Point weight / Estimated Area: 6.196544e-05 / 2.314099e+00\n",
      "[Open3D DEBUG] #       Finalized tree: 0.359 (s), 420.566 (MB) / 420.566 (MB) / 575 (MB)\n",
      "[Open3D DEBUG] #  Set FEM constraints: 0.623 (s), 411.109 (MB) / 420.566 (MB) / 575 (MB)\n",
      "[Open3D DEBUG] #Set point constraints: 0.121 (s), 409.379 (MB) / 420.566 (MB) / 575 (MB)\n",
      "[Open3D DEBUG] Leaf Nodes / Active Nodes / Ghost Nodes: 844796 / 651808 / 313673\n",
      "[Open3D DEBUG] Memory Usage: 409.391 MB\n",
      "[Open3D DEBUG] # Linear system solved: 0.981 (s), 452.719 (MB) / 452.719 (MB) / 575 (MB)\n",
      "[Open3D DEBUG] Got average: 0.0209999 (s), 416.672 (MB) / 452.719 (MB) / 575 (MB)\n",
      "[Open3D DEBUG] Iso-Value: 5.005850e-01 = 1.869435e+04 / 3.734500e+04\n",
      "[Open3D DEBUG] #          Total Solve:       4.1 (s),     473.5 (MB)\n",
      "remove low density vertices\n",
      "TriangleMesh with 120208 points and 240037 triangles.\n",
      "42335\n",
      "[Open3D DEBUG] Input Points / Samples: 42335 / 37381\n",
      "[Open3D DEBUG] #   Got kernel density: 0.15 (s), 416.676 (MB) / 473.535 (MB) / 590 (MB)\n",
      "[Open3D DEBUG] #     Got normal field: 0.189 (s), 431.84 (MB) / 473.535 (MB) / 590 (MB)\n",
      "[Open3D DEBUG] Point weight / Estimated Area: 3.733723e-05 / 1.580672e+00\n",
      "[Open3D DEBUG] #       Finalized tree: 0.369 (s), 459.434 (MB) / 473.535 (MB) / 590 (MB)\n",
      "[Open3D DEBUG] #  Set FEM constraints: 0.554 (s), 450.141 (MB) / 473.535 (MB) / 590 (MB)\n",
      "[Open3D DEBUG] #Set point constraints: 0.108000 (s), 448.473 (MB) / 473.535 (MB) / 590 (MB)\n",
      "[Open3D DEBUG] Leaf Nodes / Active Nodes / Ghost Nodes: 793787 / 645608 / 261577\n",
      "[Open3D DEBUG] Memory Usage: 448.473 MB\n",
      "[Open3D DEBUG] # Linear system solved: 1.10800 (s), 483.414 (MB) / 483.414 (MB) / 590 (MB)\n",
      "[Open3D DEBUG] Got average: 0.033 (s), 469.121 (MB) / 483.414 (MB) / 590 (MB)\n",
      "[Open3D DEBUG] Iso-Value: 4.992358e-01 = 2.113515e+04 / 4.233500e+04\n",
      "[Open3D DEBUG] #          Total Solve:       3.9 (s),     488.9 (MB)\n",
      "remove low density vertices\n",
      "TriangleMesh with 106708 points and 213204 triangles.\n"
     ]
    }
   ],
   "source": [
    "#dataset_name = [\"office_1\",\"office_2\",\"copyRoom_1\",\"pantry_1\",\"conferenceRoom_1\"]\n",
    "dataset_name = [\"vertices-schair-office\",\"vertices-sroom-bed\",\"vertices-sroom-full\",\"vertices-schair-folding\"]\n",
    "#dataset_name = [\"vertices-schair-office\",\"vertices-sroom-bed\",\"vertices-sroom-full\",\"vertices-schair-folding\",\"decimated_hq_room_half\",'vertices-hdroomfixed-64mation']\n",
    "FullListOfOutputs = MultipleObjectReconstruction(dataset_name,True,True)\n"
   ]
  },
  {
   "cell_type": "code",
   "execution_count": 26,
   "id": "f8c44cca",
   "metadata": {},
   "outputs": [],
   "source": [
    "\n",
    "def GetVisualization(ObjectIndex,TypeIndex):\n",
    "     # 0:o3dPointCloud\n",
    "     # 1:Out_Hull\n",
    "     # 2:Out_BallPivot\n",
    "     # 3:Out_PosRough\n",
    "     # 4:Out_PosRColored\n",
    "     # 5:Out_Pos\n",
    "    o3d.visualization.draw_geometries([FullListOfOutputs[TypeIndex +(6*ObjectIndex)]],mesh_show_back_face=True)\n",
    "    \n",
    "def GetGroupVisualization(ObjectIndex):\n",
    "    x=ObjectIndex\n",
    "    sublist = []\n",
    "    for y in range(6):\n",
    "        FullListOfOutputs[y+(x*6)].translate([1.5*y,0,-1.5*x])\n",
    "        sublist.insert(y,FullListOfOutputs[y+(x*6)])\n",
    "        \n",
    "    o3d.visualization.draw_geometries(sublist, mesh_show_back_face=True)   \n",
    "    \n",
    "    for y in range(6):\n",
    "         FullListOfOutputs[y+(x*6)].translate([-1.5*y,0,+1.5*x])\n",
    "        \n",
    "  \n",
    "    "
   ]
  },
  {
   "cell_type": "code",
   "execution_count": 27,
   "id": "718e1e61",
   "metadata": {},
   "outputs": [],
   "source": [
    "GetVisualization(3,4)"
   ]
  },
  {
   "cell_type": "code",
   "execution_count": 28,
   "id": "5a830b6d",
   "metadata": {},
   "outputs": [],
   "source": [
    "GetGroupVisualization(0)\n",
    "GetGroupVisualization(2)\n",
    "GetGroupVisualization(3)"
   ]
  },
  {
   "cell_type": "code",
   "execution_count": 32,
   "id": "9f2f92f4",
   "metadata": {},
   "outputs": [],
   "source": [
    "GetGroupVisualization(3)"
   ]
  },
  {
   "cell_type": "code",
   "execution_count": 33,
   "id": "d96e63df",
   "metadata": {},
   "outputs": [],
   "source": [
    "import pandas as pd"
   ]
  },
  {
   "cell_type": "code",
   "execution_count": 34,
   "id": "ec190ba1",
   "metadata": {},
   "outputs": [],
   "source": [
    "    \n",
    "def GetChamferDistance(ObjectIndex,TypeIndex,suppressOutputs=True):\n",
    "    \n",
    "    NumPoints = (np.asarray(FullListOfOutputs[(6*ObjectIndex)].points).shape[0])\n",
    "    x = FullListOfOutputs[(6*ObjectIndex+1)].sample_points_uniformly(number_of_points=NumPoints)\n",
    "    dists = np.asarray(FullListOfOutputs[(6*ObjectIndex)].compute_point_cloud_distance(x))\n",
    "    if(not suppressOutputs):\n",
    "        df = pd.DataFrame({\"distances\": dists}) \n",
    "        ax1 = df.boxplot(return_type=\"axes\") \n",
    "        ax2 = df.plot(kind=\"hist\", alpha=0.5, bins = 1000)\n",
    "        ax3 = df.plot(kind=\"line\") \n",
    "    plt.show()\n",
    "    dists = abs((sum(dists)/NumPoints))\n",
    "    return dists"
   ]
  },
  {
   "cell_type": "code",
   "execution_count": 35,
   "id": "4dcd7939",
   "metadata": {},
   "outputs": [
    {
     "name": "stdout",
     "output_type": "stream",
     "text": [
      "Chamfer         Method 1    Method 2    Method 3    Method 4    Method 5\n",
      "------------  ----------  ----------  ----------  ----------  ----------\n",
      "PointCLoud 0   0.0522318   0.0522309   0.0522304   0.0522326   0.0522295\n",
      "PointCLoud 1   0.101186    0.101186    0.101189    0.101189    0.101187\n",
      "PointCLoud 2   0.0626777   0.0626777   0.0626772   0.0626774   0.0626772\n",
      "PointCLoud 3   0.057167    0.0571656   0.0571645   0.0571666   0.0571662\n"
     ]
    }
   ],
   "source": [
    "from tabulate import tabulate\n",
    "table = []\n",
    "row1 = []\n",
    "row1.insert(0,\"Chamfer\")\n",
    "for x in range(1,6):\n",
    "    row1.insert(x+1,\"Method \"+ str(x))\n",
    "table.insert(0,row1)\n",
    "for x in range(len(dataset_name)):\n",
    "    row =[]\n",
    "    row.insert(0,\"PointCLoud \"+ str(x))\n",
    "    for y in range(1,6):\n",
    "        k=0\n",
    "        for z in range(50):\n",
    "            k = k+GetChamferDistance(x,y)\n",
    "        row.insert(y+1,k/50)\n",
    "    table.insert(x+1,row)\n",
    "print(tabulate(table,headers='firstrow'))"
   ]
  },
  {
   "cell_type": "code",
   "execution_count": 36,
   "id": "f8133cbe",
   "metadata": {},
   "outputs": [
    {
     "name": "stdout",
     "output_type": "stream",
     "text": [
      "[0.052235589540883545, 0.052230236994181015, 0.05223366724586974, 0.05223641070582943, 0.05223204210544589]\n",
      "2\n",
      "[0.1011872888015352, 0.10118887330145618, 0.10119283517268847, 0.10119372275552056, 0.10118384557526541]\n",
      "5\n",
      "[0.06267608534095079, 0.06267721890505755, 0.06267419812484562, 0.06267554929871541, 0.06267825355809245]\n",
      "3\n",
      "[0.05716697301813113, 0.05716561467657244, 0.05716566771772517, 0.057166524905951796, 0.05716742535383781]\n",
      "2\n"
     ]
    }
   ],
   "source": [
    "ReconstructionChoice = []\n",
    "for x in range(len(dataset_name)):\n",
    "#for x in range(1,2):\n",
    "    row =[]\n",
    "    for y in range(1,6):\n",
    "        \n",
    "        k=0\n",
    "        for z in range(10):\n",
    "            c=GetChamferDistance(x,y)\n",
    "            k = k+c\n",
    "        row.insert(y,k/10)\n",
    "    print(row)\n",
    "    ReconstructionChoice.insert(x,row.index(min(row))+1)\n",
    "    print(row.index(min(row))+1)\n",
    "    "
   ]
  },
  {
   "cell_type": "code",
   "execution_count": 37,
   "id": "cd478d21",
   "metadata": {},
   "outputs": [],
   "source": [
    "for x in range(len(dataset_name)):\n",
    "    GetVisualization(x,ReconstructionChoice[x])"
   ]
  },
  {
   "cell_type": "code",
   "execution_count": null,
   "id": "0855a97a",
   "metadata": {},
   "outputs": [],
   "source": []
  }
 ],
 "metadata": {
  "kernelspec": {
   "display_name": "Python 3 (Spyder)",
   "language": "python3",
   "name": "python3"
  },
  "language_info": {
   "codemirror_mode": {
    "name": "ipython",
    "version": 3
   },
   "file_extension": ".py",
   "mimetype": "text/x-python",
   "name": "python",
   "nbconvert_exporter": "python",
   "pygments_lexer": "ipython3",
   "version": "3.8.8"
  }
 },
 "nbformat": 4,
 "nbformat_minor": 5
}
