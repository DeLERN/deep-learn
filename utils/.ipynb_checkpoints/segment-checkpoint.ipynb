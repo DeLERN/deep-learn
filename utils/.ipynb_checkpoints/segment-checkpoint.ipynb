{
 "cells": [
  {
   "cell_type": "code",
   "execution_count": 1,
   "id": "8f9e7492",
   "metadata": {},
   "outputs": [],
   "source": [
    "import cv2"
   ]
  },
  {
   "cell_type": "code",
   "execution_count": 4,
   "id": "218fcb29",
   "metadata": {},
   "outputs": [],
   "source": [
    "def decode_segmap(source, nc=21):\n",
    "    foreground = cv2.imread(source)\n",
    "    \n",
    "    foreground = cv2.cvtColor(foreground, cv2.COLOR_BGR2RGB)\n",
    "    foreground = cv2.resize(foreground, (r.shape[1], r.shape[0]))\n",
    "    \n",
    "    background = 255 * np.ones_like(rgb).astype(np.uint8)\n",
    "    \n",
    "    foreground = foreground.astype(float)\n",
    "    background = background.astype(float)\n",
    "    \n",
    "    th, alpha = cv2.threshold(np.array(rgb), 0, 255, cv2.THRESH_BINARY)\n",
    "    \n",
    "    alpha = cv2.GaussianBlur(alpha, (7, 7), 0)\n",
    "    \n",
    "    alpha = alpha.astype(float)/255\n",
    "    \n",
    "    foreground = cv2.multiply(alpha, foreground)\n",
    "    \n",
    "    background = cv2.multiply(1.0 - alpha, background)\n",
    "    \n",
    "    outImage = cv2.add(foreground, background)\n",
    "    \n",
    "    return outImage / 255"
   ]
  },
  {
   "cell_type": "code",
   "execution_count": 5,
   "id": "5ec4f61b",
   "metadata": {},
   "outputs": [
    {
     "ename": "NameError",
     "evalue": "name 'r' is not defined",
     "output_type": "error",
     "traceback": [
      "Traceback \u001b[1;36m(most recent call last)\u001b[0m:\n",
      "  File \u001b[0;32m\"<ipython-input-5-db07bbe7a72d>\"\u001b[0m, line \u001b[0;32m1\u001b[0m, in \u001b[0;35m<module>\u001b[0m\n    decode_segmap(\"../utils/images/cornerhqroom.png\", 21)\n",
      "\u001b[1;36m  File \u001b[1;32m\"<ipython-input-4-6ac8a8e0e84f>\"\u001b[1;36m, line \u001b[1;32m5\u001b[1;36m, in \u001b[1;35mdecode_segmap\u001b[1;36m\u001b[0m\n\u001b[1;33m    foreground = cv2.resize(foreground, (r.shape[1], r.shape[0]))\u001b[0m\n",
      "\u001b[1;31mNameError\u001b[0m\u001b[1;31m:\u001b[0m name 'r' is not defined\n"
     ]
    }
   ],
   "source": [
    "decode_segmap(\"../utils/images/cornerhqroom.png\", 21)"
   ]
  },
  {
   "cell_type": "code",
   "execution_count": null,
   "id": "cddbc7b2",
   "metadata": {},
   "outputs": [],
   "source": []
  }
 ],
 "metadata": {
  "kernelspec": {
   "display_name": "Python 3 (Spyder)",
   "language": "python3",
   "name": "python3"
  },
  "language_info": {
   "codemirror_mode": {
    "name": "ipython",
    "version": 3
   },
   "file_extension": ".py",
   "mimetype": "text/x-python",
   "name": "python",
   "nbconvert_exporter": "python",
   "pygments_lexer": "ipython3",
   "version": "3.8.8"
  }
 },
 "nbformat": 4,
 "nbformat_minor": 5
}
