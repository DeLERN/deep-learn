{
 "cells": [
  {
   "cell_type": "code",
   "execution_count": 8,
   "id": "69867dcb",
   "metadata": {},
   "outputs": [],
   "source": [
    "import numpy as np\n",
    "import open3d as o3d\n",
    "\n",
    "\n",
    "'''\n",
    "Thank you to the Building Parser Team from Stanford who provided the Dataset:\n",
    "\n",
    "URL: http://buildingparser.stanford.edu/dataset.html\n",
    "\n",
    "@ARTICLE{2017arXiv170201105A,\n",
    "   author = {{Armeni}, I. and {Sax}, A. and {Zamir}, A.~R. and {Savarese}, S.\n",
    "\t},\n",
    "    title = \"{Joint 2D-3D-Semantic Data for Indoor Scene Understanding}\",\n",
    "  journal = {ArXiv e-prints},\n",
    "archivePrefix = \"arXiv\",\n",
    "   eprint = {1702.01105},\n",
    " primaryClass = \"cs.CV\",\n",
    " keywords = {Computer Science - Computer Vision and Pattern Recognition, Computer Science - Robotics},\n",
    "     year = 2017,\n",
    "    month = feb,\n",
    "   adsurl = {http://adsabs.harvard.edu/abs/2017arXiv170201105A},\n",
    "  adsnote = {Provided by the SAO/NASA Astrophysics Data System}\n",
    "}\n",
    "'''\n",
    "\n",
    "dataset_selector = \"office_1\"\n",
    "data = np.loadtxt(f\"../utils/dataset/{dataset_selector}.txt\")"
   ]
  },
  {
   "cell_type": "code",
   "execution_count": 9,
   "id": "804482f1",
   "metadata": {},
   "outputs": [],
   "source": [
    "def displayVoxelCloud(cloud):\n",
    "    pointCloudMatrix = np.asarray(cloud)\n",
    "    pointCloudMatrix.shape\n",
    "    colorMatrix = pointCloudMatrix[:, 3:6]\n",
    "    pointCloudMatrix= pointCloudMatrix[:,0:3]\n",
    "    pointCloudMatrix.shape\n",
    "    \n",
    "    o3dPointCloud = o3d.geometry.PointCloud() #Create pointcloud object\n",
    "    o3dPointCloud.points = o3d.utility.Vector3dVector(pointCloudMatrix) #Populate with points from numpy matrix\n",
    "    o3dPointCloud.scale(1 / np.max(o3dPointCloud.get_max_bound() - o3dPointCloud.get_min_bound()),\n",
    "          center=o3dPointCloud.get_center()) #fix the scale\n",
    "    #o3dPointCloud.colors = o3d.utility.Vector3dVector(np.random.uniform(0, 1, size=(N, 3)))\n",
    "    #voxel_grid = o3d.geometry.VoxelGrid.create_from_point_cloud(o3dPointCloud,\n",
    "                                                            #voxel_size=0.05)\n",
    "    \n",
    "    o3dPointCloud.colors = o3d.utility.Vector3dVector(np.divide(colorMatrix, 255))\n",
    "    v_size = round(max(o3dPointCloud.get_max_bound()-o3dPointCloud.get_min_bound())*0.005,4) #find Side of each voxel\n",
    "    voxel_grid=o3d.geometry.VoxelGrid.create_from_point_cloud(o3dPointCloud,voxel_size=v_size)\n",
    "   # o3d.visualization.draw_geometries([voxel_grid]) #visualization\n",
    "    \n",
    "    voxels=voxel_grid.get_voxels()\n",
    "    vox_mesh = o3d.geometry.TriangleMesh()\n",
    "    #Generate Meshes from the voxels\n",
    "    for v in voxels:\n",
    "        cube = o3d.geometry.TriangleMesh.create_box(width=1, height=1,depth=1)\n",
    "        cube.paint_uniform_color(v.color)\n",
    "        cube.translate(v.grid_index, relative=False)\n",
    "        vox_mesh+=cube\n",
    "    \n",
    "    vox_mesh.translate([0.5,0.5,0.5], relative=True)\n",
    "    vox_mesh.scale(v_size, [0,0,0])\n",
    "    vox_mesh.translate(voxel_grid.origin, relative=True)\n",
    "    vox_mesh.merge_close_vertices(0.0000001)\n",
    "    o3d.visualization.draw_geometries([vox_mesh]) #visualization"
   ]
  },
  {
   "cell_type": "code",
   "execution_count": 10,
   "id": "cb84454f",
   "metadata": {},
   "outputs": [],
   "source": [
    "displayVoxelCloud(data)"
   ]
  }
 ],
 "metadata": {
  "kernelspec": {
   "display_name": "Python 3 (Spyder)",
   "language": "python3",
   "name": "python3"
  },
  "language_info": {
   "codemirror_mode": {
    "name": "ipython",
    "version": 3
   },
   "file_extension": ".py",
   "mimetype": "text/x-python",
   "name": "python",
   "nbconvert_exporter": "python",
   "pygments_lexer": "ipython3",
   "version": "3.8.5"
  }
 },
 "nbformat": 4,
 "nbformat_minor": 5
}
